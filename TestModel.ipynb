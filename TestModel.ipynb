{
  "cells": [
    {
      "cell_type": "markdown",
      "source": [
        "# RUN MODEL PLATFORM"
      ],
      "metadata": {
        "nteract": {
          "transient": {
            "deleting": false
          }
        },
        "id": "GrjlbsfCWRMk"
      }
    },
    {
      "cell_type": "code",
      "source": [
        "pip install pycaret"
      ],
      "outputs": [],
      "execution_count": null,
      "metadata": {
        "jupyter": {
          "source_hidden": false,
          "outputs_hidden": false
        },
        "nteract": {
          "transient": {
            "deleting": false
          }
        },
        "gather": {
          "logged": 1694445850073
        },
        "id": "XiEhjPKvWRMl"
      }
    },
    {
      "cell_type": "markdown",
      "source": [
        "## Test data processing"
      ],
      "metadata": {
        "nteract": {
          "transient": {
            "deleting": false
          }
        },
        "id": "6tKvyOWzWRMm"
      }
    },
    {
      "cell_type": "code",
      "source": [
        "# Import the necessary libraries\n",
        "import pandas as pd\n",
        "import numpy as np\n",
        "from pycaret.regression import load_model, predict_model\n",
        "from sklearn.cluster import KMeans\n",
        "\n",
        "# Load the saved model\n",
        "saved_model = load_model('Main_Model_sept1')\n",
        "\n",
        "# Load your new data\n",
        "new_data = pd.read_csv('testset_sept1-10.csv')  # Replace 'test_rpm_sep_8.csv' with the actual file containing your new data\n",
        "\n",
        "# Drop any unnecessary columns (same as original dataset)\n",
        "#columns_to_drop = ['ID']\n",
        "#new_data.drop(columns=columns_to_drop, inplace=True)\n",
        "\n",
        "# Calculate the 'Custom_Miles' feature\n",
        "#new_data['Customer RPM'] = new_data['Customer Pay'] / new_data['Miles']\n",
        "\n",
        "# Handle missing values (drop rows with missing values)\n",
        "new_data.dropna(inplace=True)\n",
        "\n",
        "# Apply K-Means clustering to 'Miles' to create 'Miles_Cluster' (k=10)\n",
        "miles_data = new_data[['Miles']]\n",
        "kmeans = KMeans(n_clusters=10, random_state=0)\n",
        "new_data['Miles_Cluster'] = kmeans.fit_predict(miles_data)\n",
        "\n",
        "# Calculate 'Miles_Range' based on custom ranges\n",
        "custom_ranges = [0, 100, 200, 300, 400, 500, 600, 700, 800, 1000, 2000, 4000, 10000]\n",
        "new_data['Miles_Range'] = pd.cut(new_data['Miles'], bins=custom_ranges, labels=False) + 1\n",
        "\n",
        "# Convert 'Pickup Date' to datetime data type\n",
        "new_data['Pickup Date'] = pd.to_datetime(new_data['Pickup Date'])\n",
        "\n",
        "# Extract date features for new_data\n",
        "def extract_date_features(new_data):\n",
        "    new_data['Year'] = new_data['Pickup Date'].dt.year\n",
        "    new_data['Month'] = new_data['Pickup Date'].dt.month\n",
        "    new_data['Day'] = new_data['Pickup Date'].dt.day\n",
        "    new_data['Dayofweek'] = new_data['Pickup Date'].dt.dayofweek\n",
        "    new_data['DayOfyear'] = new_data['Pickup Date'].dt.dayofyear\n",
        "    new_data['Week'] = new_data['Pickup Date'].dt.isocalendar().week\n",
        "    new_data['Quarter'] = new_data['Pickup Date'].dt.quarter\n",
        "    new_data['Is_month_start'] = new_data['Pickup Date'].dt.is_month_start\n",
        "    new_data['Is_month_end'] = new_data['Pickup Date'].dt.is_month_end\n",
        "    new_data['Is_quarter_start'] = new_data['Pickup Date'].dt.is_quarter_start\n",
        "    new_data['Is_quarter_end'] = new_data['Pickup Date'].dt.is_quarter_end\n",
        "    new_data['Is_year_start'] = new_data['Pickup Date'].dt.is_year_start\n",
        "    new_data['Is_year_end'] = new_data['Pickup Date'].dt.is_year_end\n",
        "    new_data['Semester'] = np.where(new_data['Quarter'].isin([1, 2]), 1, 2)\n",
        "    new_data['Is_weekend'] = np.where(new_data['Dayofweek'].isin([5, 6]), 1, 0)\n",
        "    new_data['Is_weekday'] = np.where(new_data['Dayofweek'].isin([0, 1, 2, 3, 4]), 1, 0)\n",
        "    new_data['Days_in_month'] = new_data['Pickup Date'].dt.days_in_month\n",
        "    return new_data\n",
        "\n",
        "new_data = extract_date_features(new_data)\n",
        "\n",
        "# Create new features: LANE and LANE_KMA\n",
        "new_data['LANE'] = new_data['Origin City'] + ', ' + new_data['Origin State'] + ' - ' + new_data['Delivery City'] + ', ' + new_data['Delivery State']\n",
        "\n",
        "# Combine 'Origin KMA' and 'Delivery KMA' into 'LANE_KMA' and treat it as categorical\n",
        "new_data['LANE_KMA'] = new_data['Origin KMA'] + ' - ' + new_data['Delivery KMA']\n",
        "\n",
        "# Make predictions on the new data\n",
        "predictions = predict_model(saved_model, data=new_data)\n",
        "\n",
        "# Display only the selected columns\n",
        "\"\"\"selected_columns = ['Miles', 'Customer Pay', 'Customer RPM',\n",
        "'Miles_Cluster', 'Miles_Range', 'Pickup Date', 'Year',\n",
        "'Month', 'Day', 'Dayofweek', 'DayOfyear', 'Week', 'Quarter',\n",
        "'Is_month_start', 'Is_month_end', 'Is_quarter_start', 'Is_quarter_end',\n",
        "'Is_year_start', 'Is_year_end', 'Semester', 'Is_weekend', 'Is_weekday',\n",
        "'Days_in_month', 'LANE', 'LANE_KMA', 'Label']  # Include the columns you want to display\n",
        "selected_data = predictions[selected_columns]\"\"\"\n",
        "\n",
        "# Rename the 'Label' column to 'Predicted RPM'\n",
        "predictions = predictions.rename(columns={'prediction_label': 'Predicted RPM'})\n",
        "\n",
        "# Select only the original features and the predicted 'Label'\n",
        "selected_columns = ['ID', 'Pickup Date', 'Origin City', 'Origin State', 'Delivery City',\n",
        "       'Delivery State', 'Origin KMA', 'Delivery KMA', 'Lead Band', 'Miles',\n",
        "       'Customer Pay', 'RPM']  # Replace with the names of your original features\n",
        "\n",
        "selected_columns.append('Predicted RPM')\n",
        "predictions = predictions[selected_columns]\n",
        "\n",
        "# Display the DataFrame\n",
        "predictions.head(10)\n"
      ],
      "outputs": [
        {
          "output_type": "stream",
          "name": "stdout",
          "text": "Transformation Pipeline and Model Successfully Loaded\n"
        },
        {
          "output_type": "execute_result",
          "execution_count": 4,
          "data": {
            "text/plain": "       ID Pickup Date                                        Origin City  \\\n0     109  2023-09-08  GLOVERSVILLE                                  ...   \n1     110  2023-09-08  GLOVERSVILLE                                  ...   \n2      97  2023-09-08  LINCOLNSHIRE                                  ...   \n3     103  2023-09-08  VIDALIA                                       ...   \n4     108  2023-09-08  VIDALIA                                       ...   \n5  Fake_1  2023-09-08  GREENWOOD                                     ...   \n6  Fake_2  2023-09-08  GREENWOOD                                     ...   \n7      85  2023-09-07  CONSTANTINE                                   ...   \n8      90  2023-09-07  ALABASTER                                     ...   \n9      88  2023-09-07  CONYERS                                       ...   \n\n  Origin State                                      Delivery City  \\\n0           NY  JOHNSTOWN                                     ...   \n1           NY  JOHNSTOWN                                     ...   \n2           IL  JACKSON                                       ...   \n3           LA  GREENWOOD                                     ...   \n4           LA  GREENWOOD                                     ...   \n5           MS  VIDALIA                                       ...   \n6           MS  VIDALIA                                       ...   \n7           MI  SPRINGFIELD                                   ...   \n8           AL  OLIVE BRANCH                                  ...   \n9           GA  CLINTON                                       ...   \n\n  Delivery State        Origin KMA    Delivery KMA   Lead Band  Miles  \\\n0             NY        ALBANY, NY      ALBANY, NY  < 24 Hours      6   \n1             NY        ALBANY, NY      ALBANY, NY  < 24 Hours      6   \n2             MS       CHICAGO, IL     JACKSON, MS       1 Day    757   \n3             MS    SHREVEPORT, LA     JACKSON, MS  < 24 Hours    178   \n4             MS    SHREVEPORT, LA     JACKSON, MS  < 24 Hours    178   \n5             LA       JACKSON, MS  SHREVEPORT, LA  < 24 Hours    178   \n6             LA    SHREVEPORT, LA     JACKSON, MS  < 24 Hours    178   \n7             MO  GRAND RAPIDS, MI      JOPLIN, MO  < 24 Hours    602   \n8             MS    BIRMINGHAM, AL     MEMPHIS, TN  < 24 Hours    234   \n9             MS       ATLANTA, GA     JACKSON, MS  < 24 Hours    416   \n\n   Customer Pay    RPM  Predicted RPM  \n0    410.660004  62.50      78.428499  \n1    410.660004  62.50      78.428499  \n2   1733.760010   2.29       2.326900  \n3    850.000000   3.37       4.513200  \n4    850.000000   4.21       4.512400  \n5    850.000000   4.21       4.467100  \n6    850.000000   4.21       4.392400  \n7   1601.439941   2.66       2.308200  \n8    949.919983   3.42       3.389200  \n9   1200.000000   2.52       2.515300  ",
            "text/html": "<div>\n<style scoped>\n    .dataframe tbody tr th:only-of-type {\n        vertical-align: middle;\n    }\n\n    .dataframe tbody tr th {\n        vertical-align: top;\n    }\n\n    .dataframe thead th {\n        text-align: right;\n    }\n</style>\n<table border=\"1\" class=\"dataframe\">\n  <thead>\n    <tr style=\"text-align: right;\">\n      <th></th>\n      <th>ID</th>\n      <th>Pickup Date</th>\n      <th>Origin City</th>\n      <th>Origin State</th>\n      <th>Delivery City</th>\n      <th>Delivery State</th>\n      <th>Origin KMA</th>\n      <th>Delivery KMA</th>\n      <th>Lead Band</th>\n      <th>Miles</th>\n      <th>Customer Pay</th>\n      <th>RPM</th>\n      <th>Predicted RPM</th>\n    </tr>\n  </thead>\n  <tbody>\n    <tr>\n      <th>0</th>\n      <td>109</td>\n      <td>2023-09-08</td>\n      <td>GLOVERSVILLE                                  ...</td>\n      <td>NY</td>\n      <td>JOHNSTOWN                                     ...</td>\n      <td>NY</td>\n      <td>ALBANY, NY</td>\n      <td>ALBANY, NY</td>\n      <td>&lt; 24 Hours</td>\n      <td>6</td>\n      <td>410.660004</td>\n      <td>62.50</td>\n      <td>78.428499</td>\n    </tr>\n    <tr>\n      <th>1</th>\n      <td>110</td>\n      <td>2023-09-08</td>\n      <td>GLOVERSVILLE                                  ...</td>\n      <td>NY</td>\n      <td>JOHNSTOWN                                     ...</td>\n      <td>NY</td>\n      <td>ALBANY, NY</td>\n      <td>ALBANY, NY</td>\n      <td>&lt; 24 Hours</td>\n      <td>6</td>\n      <td>410.660004</td>\n      <td>62.50</td>\n      <td>78.428499</td>\n    </tr>\n    <tr>\n      <th>2</th>\n      <td>97</td>\n      <td>2023-09-08</td>\n      <td>LINCOLNSHIRE                                  ...</td>\n      <td>IL</td>\n      <td>JACKSON                                       ...</td>\n      <td>MS</td>\n      <td>CHICAGO, IL</td>\n      <td>JACKSON, MS</td>\n      <td>1 Day</td>\n      <td>757</td>\n      <td>1733.760010</td>\n      <td>2.29</td>\n      <td>2.326900</td>\n    </tr>\n    <tr>\n      <th>3</th>\n      <td>103</td>\n      <td>2023-09-08</td>\n      <td>VIDALIA                                       ...</td>\n      <td>LA</td>\n      <td>GREENWOOD                                     ...</td>\n      <td>MS</td>\n      <td>SHREVEPORT, LA</td>\n      <td>JACKSON, MS</td>\n      <td>&lt; 24 Hours</td>\n      <td>178</td>\n      <td>850.000000</td>\n      <td>3.37</td>\n      <td>4.513200</td>\n    </tr>\n    <tr>\n      <th>4</th>\n      <td>108</td>\n      <td>2023-09-08</td>\n      <td>VIDALIA                                       ...</td>\n      <td>LA</td>\n      <td>GREENWOOD                                     ...</td>\n      <td>MS</td>\n      <td>SHREVEPORT, LA</td>\n      <td>JACKSON, MS</td>\n      <td>&lt; 24 Hours</td>\n      <td>178</td>\n      <td>850.000000</td>\n      <td>4.21</td>\n      <td>4.512400</td>\n    </tr>\n    <tr>\n      <th>5</th>\n      <td>Fake_1</td>\n      <td>2023-09-08</td>\n      <td>GREENWOOD                                     ...</td>\n      <td>MS</td>\n      <td>VIDALIA                                       ...</td>\n      <td>LA</td>\n      <td>JACKSON, MS</td>\n      <td>SHREVEPORT, LA</td>\n      <td>&lt; 24 Hours</td>\n      <td>178</td>\n      <td>850.000000</td>\n      <td>4.21</td>\n      <td>4.467100</td>\n    </tr>\n    <tr>\n      <th>6</th>\n      <td>Fake_2</td>\n      <td>2023-09-08</td>\n      <td>GREENWOOD                                     ...</td>\n      <td>MS</td>\n      <td>VIDALIA                                       ...</td>\n      <td>LA</td>\n      <td>SHREVEPORT, LA</td>\n      <td>JACKSON, MS</td>\n      <td>&lt; 24 Hours</td>\n      <td>178</td>\n      <td>850.000000</td>\n      <td>4.21</td>\n      <td>4.392400</td>\n    </tr>\n    <tr>\n      <th>7</th>\n      <td>85</td>\n      <td>2023-09-07</td>\n      <td>CONSTANTINE                                   ...</td>\n      <td>MI</td>\n      <td>SPRINGFIELD                                   ...</td>\n      <td>MO</td>\n      <td>GRAND RAPIDS, MI</td>\n      <td>JOPLIN, MO</td>\n      <td>&lt; 24 Hours</td>\n      <td>602</td>\n      <td>1601.439941</td>\n      <td>2.66</td>\n      <td>2.308200</td>\n    </tr>\n    <tr>\n      <th>8</th>\n      <td>90</td>\n      <td>2023-09-07</td>\n      <td>ALABASTER                                     ...</td>\n      <td>AL</td>\n      <td>OLIVE BRANCH                                  ...</td>\n      <td>MS</td>\n      <td>BIRMINGHAM, AL</td>\n      <td>MEMPHIS, TN</td>\n      <td>&lt; 24 Hours</td>\n      <td>234</td>\n      <td>949.919983</td>\n      <td>3.42</td>\n      <td>3.389200</td>\n    </tr>\n    <tr>\n      <th>9</th>\n      <td>88</td>\n      <td>2023-09-07</td>\n      <td>CONYERS                                       ...</td>\n      <td>GA</td>\n      <td>CLINTON                                       ...</td>\n      <td>MS</td>\n      <td>ATLANTA, GA</td>\n      <td>JACKSON, MS</td>\n      <td>&lt; 24 Hours</td>\n      <td>416</td>\n      <td>1200.000000</td>\n      <td>2.52</td>\n      <td>2.515300</td>\n    </tr>\n  </tbody>\n</table>\n</div>"
          },
          "metadata": {}
        }
      ],
      "execution_count": null,
      "metadata": {
        "jupyter": {
          "source_hidden": false,
          "outputs_hidden": false
        },
        "nteract": {
          "transient": {
            "deleting": false
          }
        },
        "gather": {
          "logged": 1694528697899
        },
        "id": "-r7S4LwbWRMm",
        "outputId": "749a6521-e478-4121-ead1-585bb3231c6e"
      }
    },
    {
      "cell_type": "markdown",
      "source": [
        "# Saving the result file"
      ],
      "metadata": {
        "nteract": {
          "transient": {
            "deleting": false
          }
        },
        "id": "LbXDChpEWRMn"
      }
    },
    {
      "cell_type": "code",
      "source": [
        "predictions.to_csv('Results_sept1-1.csv')"
      ],
      "outputs": [],
      "execution_count": null,
      "metadata": {
        "jupyter": {
          "source_hidden": false,
          "outputs_hidden": false
        },
        "nteract": {
          "transient": {
            "deleting": false
          }
        },
        "gather": {
          "logged": 1694528734001
        },
        "id": "OshXkK3-WRMn"
      }
    },
    {
      "cell_type": "markdown",
      "source": [
        "# Mean and Median comparison"
      ],
      "metadata": {
        "nteract": {
          "transient": {
            "deleting": false
          }
        },
        "id": "oPGz-27WWRMn"
      }
    },
    {
      "cell_type": "code",
      "source": [
        "import pandas as pd\n",
        "\n",
        "# Assuming 'predictions' is your DataFrame\n",
        "columns_to_calculate = ['RPM', 'Predicted RPM', 'Miles', 'Customer Pay']\n",
        "\n",
        "# Calculate mean and median for specified columns\n",
        "mean_values = predictions[columns_to_calculate].mean()\n",
        "median_values = predictions[columns_to_calculate].median()\n",
        "\n",
        "# Round the values to two decimal places\n",
        "mean_values = mean_values.round(2)\n",
        "median_values = median_values.round(2)\n",
        "\n",
        "# Create a DataFrame to display the results\n",
        "summary_df = pd.DataFrame({'Mean': mean_values, 'Median': median_values})\n",
        "\n",
        "# Display the summary DataFrame\n",
        "print(summary_df)\n"
      ],
      "outputs": [
        {
          "output_type": "stream",
          "name": "stdout",
          "text": "                  Mean   Median\nRPM               6.45     2.85\nPredicted RPM     6.69     2.72\nMiles           442.54   360.50\nCustomer Pay   1255.52  1071.01\n"
        }
      ],
      "execution_count": null,
      "metadata": {
        "jupyter": {
          "source_hidden": false,
          "outputs_hidden": false
        },
        "nteract": {
          "transient": {
            "deleting": false
          }
        },
        "gather": {
          "logged": 1694467361654
        },
        "id": "vG5B0034WRMn",
        "outputId": "e0966eed-7e6f-4c47-af13-0d9d24254ec4"
      }
    },
    {
      "cell_type": "markdown",
      "source": [
        "## Visualize Predicted and Actual values of RPM"
      ],
      "metadata": {
        "nteract": {
          "transient": {
            "deleting": false
          }
        },
        "id": "6uTZj6zxWRMn"
      }
    },
    {
      "cell_type": "code",
      "source": [
        "import seaborn as sns\n",
        "pd.options.plotting.backend = \"plotly\"\n",
        "predictions[['RPM', 'Predicted RPM']].plot(kind='line', title='GR: RPM vs Predicted RPM')\n",
        "#fig.add_scatter(x=df_test['Miles'], y=df_test['Label'], mode='lines')"
      ],
      "outputs": [
        {
          "output_type": "display_data",
          "data": {
            "application/vnd.plotly.v1+json": {
              "data": [
                {
                  "hovertemplate": "variable=RPM<br>index=%{x}<br>value=%{y}<extra></extra>",
                  "legendgroup": "RPM",
                  "line": {
                    "color": "#636efa",
                    "dash": "solid"
                  },
                  "marker": {
                    "symbol": "circle"
                  },
                  "mode": "lines",
                  "name": "RPM",
                  "orientation": "v",
                  "showlegend": true,
                  "x": [
                    0,
                    1,
                    2,
                    3,
                    4,
                    5,
                    6,
                    7,
                    8,
                    9,
                    10,
                    11,
                    12,
                    13,
                    14,
                    15,
                    16,
                    17,
                    18,
                    19,
                    20,
                    21,
                    22,
                    23,
                    24,
                    25,
                    26,
                    27,
                    28,
                    29,
                    30,
                    31,
                    32,
                    33,
                    34,
                    35,
                    36,
                    37,
                    38,
                    39,
                    40,
                    41,
                    42,
                    43,
                    44,
                    45,
                    46,
                    47,
                    48,
                    49,
                    50,
                    51,
                    52,
                    53,
                    54,
                    55,
                    56,
                    57,
                    58,
                    59,
                    60,
                    61,
                    62,
                    63,
                    64,
                    65,
                    66,
                    67,
                    68,
                    69,
                    70,
                    71,
                    72,
                    73,
                    74,
                    75,
                    76,
                    77,
                    78,
                    79,
                    80,
                    81,
                    82,
                    83,
                    84,
                    85,
                    86,
                    87,
                    88,
                    89,
                    90,
                    91,
                    92,
                    93,
                    94,
                    95,
                    96,
                    97,
                    98,
                    99,
                    100,
                    101,
                    102,
                    103,
                    104,
                    105,
                    106,
                    107,
                    108,
                    109,
                    110,
                    111,
                    112,
                    113,
                    114,
                    115,
                    116,
                    117,
                    118,
                    119
                  ],
                  "xaxis": "x",
                  "y": [
                    62.5,
                    62.5,
                    2.2899999618530273,
                    3.369999885559082,
                    4.210000038146973,
                    2.6600000858306885,
                    3.4200000762939453,
                    2.5199999809265137,
                    10.579999923706055,
                    6.900000095367432,
                    3.009999990463257,
                    4.090000152587891,
                    2.2899999618530273,
                    2.700000047683716,
                    20.829999923706055,
                    3.059999942779541,
                    2.049999952316284,
                    6.900000095367432,
                    2.869999885559082,
                    3.6500000953674316,
                    3.4000000953674316,
                    2.109999895095825,
                    3.609999895095825,
                    2.109999895095825,
                    3.0799999237060547,
                    4.210000038146973,
                    6.900000095367432,
                    2.5899999141693115,
                    2.5899999141693115,
                    20.829999923706055,
                    3.930000066757202,
                    2.109999895095825,
                    4.210000038146973,
                    2.8299999237060547,
                    2.6500000953674316,
                    4.210000038146973,
                    20.829999923706055,
                    3.930000066757202,
                    3.930000066757202,
                    7.349999904632568,
                    20.829999923706055,
                    2.119999885559082,
                    1.7999999523162842,
                    2.640000104904175,
                    4.210000038146973,
                    2.950000047683716,
                    2.299999952316284,
                    2.2899999618530273,
                    2.8299999237060547,
                    4.210000038146973,
                    2.2899999618530273,
                    2.109999895095825,
                    6.670000076293945,
                    2.490000009536743,
                    10.1899995803833,
                    5.130000114440918,
                    2.5199999809265137,
                    2.430000066757202,
                    3.6500000953674316,
                    43.47999954223633,
                    2.4100000858306885,
                    3.6500000953674316,
                    1.2999999523162842,
                    2.109999895095825,
                    2.690000057220459,
                    43.47999954223633,
                    2.1500000953674316,
                    9.380000114440918,
                    1.2999999523162842,
                    3.7300000190734863,
                    1.809999942779541,
                    20.829999923706055,
                    1.9800000190734863,
                    3.5,
                    1.2999999523162842,
                    2.240000009536743,
                    3.259999990463257,
                    6.900000095367432,
                    2.940000057220459,
                    20.829999923706055,
                    6.900000095367432,
                    2.0899999141693115,
                    1.5800000429153442,
                    20.829999923706055,
                    43.47999954223633,
                    20.829999923706055,
                    2.309999942779541,
                    6.900000095367432,
                    2.740000009536743,
                    2.940000057220459,
                    5.130000114440918,
                    1.659999966621399,
                    1.6799999475479126,
                    2.940000057220459,
                    2.1600000858306885,
                    3.059999942779541,
                    2.3399999141693115,
                    2.3499999046325684,
                    2.819999933242798,
                    1.9800000190734863,
                    2.490000009536743,
                    2.0199999809265137,
                    6.900000095367432,
                    2.359999895095825,
                    1.7400000095367432,
                    1.559999942779541,
                    1.7899999618530273,
                    2.890000104904175,
                    2.2799999713897705,
                    1.5700000524520874,
                    3.7200000286102295,
                    1.9299999475479126,
                    2.619999885559082,
                    1.899999976158142,
                    2.6600000858306885,
                    3.5399999618530273,
                    2.0899999141693115,
                    2.7200000286102295,
                    2.7200000286102295,
                    2.9700000286102295
                  ],
                  "yaxis": "y",
                  "type": "scatter"
                },
                {
                  "hovertemplate": "variable=Predicted RPM<br>index=%{x}<br>value=%{y}<extra></extra>",
                  "legendgroup": "Predicted RPM",
                  "line": {
                    "color": "#EF553B",
                    "dash": "solid"
                  },
                  "marker": {
                    "symbol": "circle"
                  },
                  "mode": "lines",
                  "name": "Predicted RPM",
                  "orientation": "v",
                  "showlegend": true,
                  "x": [
                    0,
                    1,
                    2,
                    3,
                    4,
                    5,
                    6,
                    7,
                    8,
                    9,
                    10,
                    11,
                    12,
                    13,
                    14,
                    15,
                    16,
                    17,
                    18,
                    19,
                    20,
                    21,
                    22,
                    23,
                    24,
                    25,
                    26,
                    27,
                    28,
                    29,
                    30,
                    31,
                    32,
                    33,
                    34,
                    35,
                    36,
                    37,
                    38,
                    39,
                    40,
                    41,
                    42,
                    43,
                    44,
                    45,
                    46,
                    47,
                    48,
                    49,
                    50,
                    51,
                    52,
                    53,
                    54,
                    55,
                    56,
                    57,
                    58,
                    59,
                    60,
                    61,
                    62,
                    63,
                    64,
                    65,
                    66,
                    67,
                    68,
                    69,
                    70,
                    71,
                    72,
                    73,
                    74,
                    75,
                    76,
                    77,
                    78,
                    79,
                    80,
                    81,
                    82,
                    83,
                    84,
                    85,
                    86,
                    87,
                    88,
                    89,
                    90,
                    91,
                    92,
                    93,
                    94,
                    95,
                    96,
                    97,
                    98,
                    99,
                    100,
                    101,
                    102,
                    103,
                    104,
                    105,
                    106,
                    107,
                    108,
                    109,
                    110,
                    111,
                    112,
                    113,
                    114,
                    115,
                    116,
                    117,
                    118,
                    119
                  ],
                  "xaxis": "x",
                  "y": [
                    78.42849940299988,
                    78.42849940299988,
                    2.330300009250641,
                    4.5025000166893,
                    4.50170001745224,
                    2.2931999933719633,
                    3.3836000394821166,
                    2.5122000229358674,
                    10.518399963378906,
                    6.908000101894141,
                    3.935700013637543,
                    3.567300033569336,
                    2.330300009250641,
                    2.6637000226974488,
                    20.798199920654298,
                    2.6818999814987183,
                    2.0859999799728395,
                    6.923200106471777,
                    2.7414999556541444,
                    4.478100020885467,
                    3.166699991226196,
                    2.0991999781131745,
                    4.115299999713898,
                    2.2059000122547148,
                    3.178599989414215,
                    4.474100019931793,
                    6.912500099986792,
                    2.520099995136261,
                    2.67889995098114,
                    20.798199920654298,
                    4.490800020694732,
                    2.355299994945526,
                    4.474100019931793,
                    2.7193999695777893,
                    2.3580000054836274,
                    4.491800019741058,
                    20.798199920654298,
                    4.490800020694732,
                    4.490800020694732,
                    4.681499993801117,
                    20.798199920654298,
                    2.2997999942302703,
                    2.2458999872207643,
                    2.6788999795913697,
                    4.474100019931793,
                    4.450400011539459,
                    2.4757999956607817,
                    2.2708999848365785,
                    2.7193999695777893,
                    4.491800019741058,
                    2.1200999963283538,
                    2.0944999825954436,
                    6.229800061881543,
                    2.702399978637695,
                    10.370199861526489,
                    5.438599974960089,
                    2.5122000229358674,
                    2.504600021839142,
                    3.4938000321388243,
                    40.2468995475769,
                    2.4090000212192537,
                    3.4938000321388243,
                    1.6445999979972838,
                    2.253899998664856,
                    2.5765000200271606,
                    38.20469959259033,
                    2.087000023126602,
                    11.02050000190735,
                    1.6445999979972838,
                    3.662100033760071,
                    1.8386999905109405,
                    20.798199920654298,
                    2.628900066614151,
                    2.4016999900341034,
                    1.6445999979972838,
                    2.3408999955654144,
                    2.985600023269653,
                    6.912500099986792,
                    2.9302000045776366,
                    20.798199920654298,
                    6.912500099986792,
                    2.098099954128265,
                    1.6815999960899353,
                    20.798199920654298,
                    40.34729953765869,
                    20.798199920654298,
                    2.3733000028133393,
                    6.912500099986792,
                    2.7278000116348267,
                    2.9302000045776366,
                    5.6052999804914,
                    1.7559000110626222,
                    1.826500004529953,
                    2.659999988079071,
                    2.1462000036239623,
                    2.5680000030994417,
                    2.2982999908924104,
                    2.4992999982833863,
                    3.3802999591827394,
                    2.0213000106811525,
                    2.471799992322922,
                    2.088699984550476,
                    6.912500099986792,
                    2.3657999742031097,
                    1.7159999883174897,
                    1.8071999895572661,
                    2.3492000377178193,
                    2.8309000265598296,
                    2.2973999786376953,
                    1.5949000334739685,
                    3.9707000184059145,
                    2.0852999913692476,
                    2.6120000088214876,
                    1.8721000027656556,
                    2.2077000093460084,
                    3.955600007772446,
                    2.098099954128265,
                    3.014600019454956,
                    2.829100012779236,
                    2.476099979877472
                  ],
                  "yaxis": "y",
                  "type": "scatter"
                }
              ],
              "layout": {
                "template": {
                  "data": {
                    "histogram2dcontour": [
                      {
                        "type": "histogram2dcontour",
                        "colorbar": {
                          "outlinewidth": 0,
                          "ticks": ""
                        },
                        "colorscale": [
                          [
                            0,
                            "#0d0887"
                          ],
                          [
                            0.1111111111111111,
                            "#46039f"
                          ],
                          [
                            0.2222222222222222,
                            "#7201a8"
                          ],
                          [
                            0.3333333333333333,
                            "#9c179e"
                          ],
                          [
                            0.4444444444444444,
                            "#bd3786"
                          ],
                          [
                            0.5555555555555556,
                            "#d8576b"
                          ],
                          [
                            0.6666666666666666,
                            "#ed7953"
                          ],
                          [
                            0.7777777777777778,
                            "#fb9f3a"
                          ],
                          [
                            0.8888888888888888,
                            "#fdca26"
                          ],
                          [
                            1,
                            "#f0f921"
                          ]
                        ]
                      }
                    ],
                    "choropleth": [
                      {
                        "type": "choropleth",
                        "colorbar": {
                          "outlinewidth": 0,
                          "ticks": ""
                        }
                      }
                    ],
                    "histogram2d": [
                      {
                        "type": "histogram2d",
                        "colorbar": {
                          "outlinewidth": 0,
                          "ticks": ""
                        },
                        "colorscale": [
                          [
                            0,
                            "#0d0887"
                          ],
                          [
                            0.1111111111111111,
                            "#46039f"
                          ],
                          [
                            0.2222222222222222,
                            "#7201a8"
                          ],
                          [
                            0.3333333333333333,
                            "#9c179e"
                          ],
                          [
                            0.4444444444444444,
                            "#bd3786"
                          ],
                          [
                            0.5555555555555556,
                            "#d8576b"
                          ],
                          [
                            0.6666666666666666,
                            "#ed7953"
                          ],
                          [
                            0.7777777777777778,
                            "#fb9f3a"
                          ],
                          [
                            0.8888888888888888,
                            "#fdca26"
                          ],
                          [
                            1,
                            "#f0f921"
                          ]
                        ]
                      }
                    ],
                    "heatmap": [
                      {
                        "type": "heatmap",
                        "colorbar": {
                          "outlinewidth": 0,
                          "ticks": ""
                        },
                        "colorscale": [
                          [
                            0,
                            "#0d0887"
                          ],
                          [
                            0.1111111111111111,
                            "#46039f"
                          ],
                          [
                            0.2222222222222222,
                            "#7201a8"
                          ],
                          [
                            0.3333333333333333,
                            "#9c179e"
                          ],
                          [
                            0.4444444444444444,
                            "#bd3786"
                          ],
                          [
                            0.5555555555555556,
                            "#d8576b"
                          ],
                          [
                            0.6666666666666666,
                            "#ed7953"
                          ],
                          [
                            0.7777777777777778,
                            "#fb9f3a"
                          ],
                          [
                            0.8888888888888888,
                            "#fdca26"
                          ],
                          [
                            1,
                            "#f0f921"
                          ]
                        ]
                      }
                    ],
                    "heatmapgl": [
                      {
                        "type": "heatmapgl",
                        "colorbar": {
                          "outlinewidth": 0,
                          "ticks": ""
                        },
                        "colorscale": [
                          [
                            0,
                            "#0d0887"
                          ],
                          [
                            0.1111111111111111,
                            "#46039f"
                          ],
                          [
                            0.2222222222222222,
                            "#7201a8"
                          ],
                          [
                            0.3333333333333333,
                            "#9c179e"
                          ],
                          [
                            0.4444444444444444,
                            "#bd3786"
                          ],
                          [
                            0.5555555555555556,
                            "#d8576b"
                          ],
                          [
                            0.6666666666666666,
                            "#ed7953"
                          ],
                          [
                            0.7777777777777778,
                            "#fb9f3a"
                          ],
                          [
                            0.8888888888888888,
                            "#fdca26"
                          ],
                          [
                            1,
                            "#f0f921"
                          ]
                        ]
                      }
                    ],
                    "contourcarpet": [
                      {
                        "type": "contourcarpet",
                        "colorbar": {
                          "outlinewidth": 0,
                          "ticks": ""
                        }
                      }
                    ],
                    "contour": [
                      {
                        "type": "contour",
                        "colorbar": {
                          "outlinewidth": 0,
                          "ticks": ""
                        },
                        "colorscale": [
                          [
                            0,
                            "#0d0887"
                          ],
                          [
                            0.1111111111111111,
                            "#46039f"
                          ],
                          [
                            0.2222222222222222,
                            "#7201a8"
                          ],
                          [
                            0.3333333333333333,
                            "#9c179e"
                          ],
                          [
                            0.4444444444444444,
                            "#bd3786"
                          ],
                          [
                            0.5555555555555556,
                            "#d8576b"
                          ],
                          [
                            0.6666666666666666,
                            "#ed7953"
                          ],
                          [
                            0.7777777777777778,
                            "#fb9f3a"
                          ],
                          [
                            0.8888888888888888,
                            "#fdca26"
                          ],
                          [
                            1,
                            "#f0f921"
                          ]
                        ]
                      }
                    ],
                    "surface": [
                      {
                        "type": "surface",
                        "colorbar": {
                          "outlinewidth": 0,
                          "ticks": ""
                        },
                        "colorscale": [
                          [
                            0,
                            "#0d0887"
                          ],
                          [
                            0.1111111111111111,
                            "#46039f"
                          ],
                          [
                            0.2222222222222222,
                            "#7201a8"
                          ],
                          [
                            0.3333333333333333,
                            "#9c179e"
                          ],
                          [
                            0.4444444444444444,
                            "#bd3786"
                          ],
                          [
                            0.5555555555555556,
                            "#d8576b"
                          ],
                          [
                            0.6666666666666666,
                            "#ed7953"
                          ],
                          [
                            0.7777777777777778,
                            "#fb9f3a"
                          ],
                          [
                            0.8888888888888888,
                            "#fdca26"
                          ],
                          [
                            1,
                            "#f0f921"
                          ]
                        ]
                      }
                    ],
                    "mesh3d": [
                      {
                        "type": "mesh3d",
                        "colorbar": {
                          "outlinewidth": 0,
                          "ticks": ""
                        }
                      }
                    ],
                    "scatter": [
                      {
                        "fillpattern": {
                          "fillmode": "overlay",
                          "size": 10,
                          "solidity": 0.2
                        },
                        "type": "scatter"
                      }
                    ],
                    "parcoords": [
                      {
                        "type": "parcoords",
                        "line": {
                          "colorbar": {
                            "outlinewidth": 0,
                            "ticks": ""
                          }
                        }
                      }
                    ],
                    "scatterpolargl": [
                      {
                        "type": "scatterpolargl",
                        "marker": {
                          "colorbar": {
                            "outlinewidth": 0,
                            "ticks": ""
                          }
                        }
                      }
                    ],
                    "bar": [
                      {
                        "error_x": {
                          "color": "#2a3f5f"
                        },
                        "error_y": {
                          "color": "#2a3f5f"
                        },
                        "marker": {
                          "line": {
                            "color": "#E5ECF6",
                            "width": 0.5
                          },
                          "pattern": {
                            "fillmode": "overlay",
                            "size": 10,
                            "solidity": 0.2
                          }
                        },
                        "type": "bar"
                      }
                    ],
                    "scattergeo": [
                      {
                        "type": "scattergeo",
                        "marker": {
                          "colorbar": {
                            "outlinewidth": 0,
                            "ticks": ""
                          }
                        }
                      }
                    ],
                    "scatterpolar": [
                      {
                        "type": "scatterpolar",
                        "marker": {
                          "colorbar": {
                            "outlinewidth": 0,
                            "ticks": ""
                          }
                        }
                      }
                    ],
                    "histogram": [
                      {
                        "marker": {
                          "pattern": {
                            "fillmode": "overlay",
                            "size": 10,
                            "solidity": 0.2
                          }
                        },
                        "type": "histogram"
                      }
                    ],
                    "scattergl": [
                      {
                        "type": "scattergl",
                        "marker": {
                          "colorbar": {
                            "outlinewidth": 0,
                            "ticks": ""
                          }
                        }
                      }
                    ],
                    "scatter3d": [
                      {
                        "type": "scatter3d",
                        "line": {
                          "colorbar": {
                            "outlinewidth": 0,
                            "ticks": ""
                          }
                        },
                        "marker": {
                          "colorbar": {
                            "outlinewidth": 0,
                            "ticks": ""
                          }
                        }
                      }
                    ],
                    "scattermapbox": [
                      {
                        "type": "scattermapbox",
                        "marker": {
                          "colorbar": {
                            "outlinewidth": 0,
                            "ticks": ""
                          }
                        }
                      }
                    ],
                    "scatterternary": [
                      {
                        "type": "scatterternary",
                        "marker": {
                          "colorbar": {
                            "outlinewidth": 0,
                            "ticks": ""
                          }
                        }
                      }
                    ],
                    "scattercarpet": [
                      {
                        "type": "scattercarpet",
                        "marker": {
                          "colorbar": {
                            "outlinewidth": 0,
                            "ticks": ""
                          }
                        }
                      }
                    ],
                    "carpet": [
                      {
                        "aaxis": {
                          "endlinecolor": "#2a3f5f",
                          "gridcolor": "white",
                          "linecolor": "white",
                          "minorgridcolor": "white",
                          "startlinecolor": "#2a3f5f"
                        },
                        "baxis": {
                          "endlinecolor": "#2a3f5f",
                          "gridcolor": "white",
                          "linecolor": "white",
                          "minorgridcolor": "white",
                          "startlinecolor": "#2a3f5f"
                        },
                        "type": "carpet"
                      }
                    ],
                    "table": [
                      {
                        "cells": {
                          "fill": {
                            "color": "#EBF0F8"
                          },
                          "line": {
                            "color": "white"
                          }
                        },
                        "header": {
                          "fill": {
                            "color": "#C8D4E3"
                          },
                          "line": {
                            "color": "white"
                          }
                        },
                        "type": "table"
                      }
                    ],
                    "barpolar": [
                      {
                        "marker": {
                          "line": {
                            "color": "#E5ECF6",
                            "width": 0.5
                          },
                          "pattern": {
                            "fillmode": "overlay",
                            "size": 10,
                            "solidity": 0.2
                          }
                        },
                        "type": "barpolar"
                      }
                    ],
                    "pie": [
                      {
                        "automargin": true,
                        "type": "pie"
                      }
                    ]
                  },
                  "layout": {
                    "autotypenumbers": "strict",
                    "colorway": [
                      "#636efa",
                      "#EF553B",
                      "#00cc96",
                      "#ab63fa",
                      "#FFA15A",
                      "#19d3f3",
                      "#FF6692",
                      "#B6E880",
                      "#FF97FF",
                      "#FECB52"
                    ],
                    "font": {
                      "color": "#2a3f5f"
                    },
                    "hovermode": "closest",
                    "hoverlabel": {
                      "align": "left"
                    },
                    "paper_bgcolor": "white",
                    "plot_bgcolor": "#E5ECF6",
                    "polar": {
                      "bgcolor": "#E5ECF6",
                      "angularaxis": {
                        "gridcolor": "white",
                        "linecolor": "white",
                        "ticks": ""
                      },
                      "radialaxis": {
                        "gridcolor": "white",
                        "linecolor": "white",
                        "ticks": ""
                      }
                    },
                    "ternary": {
                      "bgcolor": "#E5ECF6",
                      "aaxis": {
                        "gridcolor": "white",
                        "linecolor": "white",
                        "ticks": ""
                      },
                      "baxis": {
                        "gridcolor": "white",
                        "linecolor": "white",
                        "ticks": ""
                      },
                      "caxis": {
                        "gridcolor": "white",
                        "linecolor": "white",
                        "ticks": ""
                      }
                    },
                    "coloraxis": {
                      "colorbar": {
                        "outlinewidth": 0,
                        "ticks": ""
                      }
                    },
                    "colorscale": {
                      "sequential": [
                        [
                          0,
                          "#0d0887"
                        ],
                        [
                          0.1111111111111111,
                          "#46039f"
                        ],
                        [
                          0.2222222222222222,
                          "#7201a8"
                        ],
                        [
                          0.3333333333333333,
                          "#9c179e"
                        ],
                        [
                          0.4444444444444444,
                          "#bd3786"
                        ],
                        [
                          0.5555555555555556,
                          "#d8576b"
                        ],
                        [
                          0.6666666666666666,
                          "#ed7953"
                        ],
                        [
                          0.7777777777777778,
                          "#fb9f3a"
                        ],
                        [
                          0.8888888888888888,
                          "#fdca26"
                        ],
                        [
                          1,
                          "#f0f921"
                        ]
                      ],
                      "sequentialminus": [
                        [
                          0,
                          "#0d0887"
                        ],
                        [
                          0.1111111111111111,
                          "#46039f"
                        ],
                        [
                          0.2222222222222222,
                          "#7201a8"
                        ],
                        [
                          0.3333333333333333,
                          "#9c179e"
                        ],
                        [
                          0.4444444444444444,
                          "#bd3786"
                        ],
                        [
                          0.5555555555555556,
                          "#d8576b"
                        ],
                        [
                          0.6666666666666666,
                          "#ed7953"
                        ],
                        [
                          0.7777777777777778,
                          "#fb9f3a"
                        ],
                        [
                          0.8888888888888888,
                          "#fdca26"
                        ],
                        [
                          1,
                          "#f0f921"
                        ]
                      ],
                      "diverging": [
                        [
                          0,
                          "#8e0152"
                        ],
                        [
                          0.1,
                          "#c51b7d"
                        ],
                        [
                          0.2,
                          "#de77ae"
                        ],
                        [
                          0.3,
                          "#f1b6da"
                        ],
                        [
                          0.4,
                          "#fde0ef"
                        ],
                        [
                          0.5,
                          "#f7f7f7"
                        ],
                        [
                          0.6,
                          "#e6f5d0"
                        ],
                        [
                          0.7,
                          "#b8e186"
                        ],
                        [
                          0.8,
                          "#7fbc41"
                        ],
                        [
                          0.9,
                          "#4d9221"
                        ],
                        [
                          1,
                          "#276419"
                        ]
                      ]
                    },
                    "xaxis": {
                      "gridcolor": "white",
                      "linecolor": "white",
                      "ticks": "",
                      "title": {
                        "standoff": 15
                      },
                      "zerolinecolor": "white",
                      "automargin": true,
                      "zerolinewidth": 2
                    },
                    "yaxis": {
                      "gridcolor": "white",
                      "linecolor": "white",
                      "ticks": "",
                      "title": {
                        "standoff": 15
                      },
                      "zerolinecolor": "white",
                      "automargin": true,
                      "zerolinewidth": 2
                    },
                    "scene": {
                      "xaxis": {
                        "backgroundcolor": "#E5ECF6",
                        "gridcolor": "white",
                        "linecolor": "white",
                        "showbackground": true,
                        "ticks": "",
                        "zerolinecolor": "white",
                        "gridwidth": 2
                      },
                      "yaxis": {
                        "backgroundcolor": "#E5ECF6",
                        "gridcolor": "white",
                        "linecolor": "white",
                        "showbackground": true,
                        "ticks": "",
                        "zerolinecolor": "white",
                        "gridwidth": 2
                      },
                      "zaxis": {
                        "backgroundcolor": "#E5ECF6",
                        "gridcolor": "white",
                        "linecolor": "white",
                        "showbackground": true,
                        "ticks": "",
                        "zerolinecolor": "white",
                        "gridwidth": 2
                      }
                    },
                    "shapedefaults": {
                      "line": {
                        "color": "#2a3f5f"
                      }
                    },
                    "annotationdefaults": {
                      "arrowcolor": "#2a3f5f",
                      "arrowhead": 0,
                      "arrowwidth": 1
                    },
                    "geo": {
                      "bgcolor": "white",
                      "landcolor": "#E5ECF6",
                      "subunitcolor": "white",
                      "showland": true,
                      "showlakes": true,
                      "lakecolor": "white"
                    },
                    "title": {
                      "x": 0.05
                    },
                    "mapbox": {
                      "style": "light"
                    }
                  }
                },
                "xaxis": {
                  "anchor": "y",
                  "domain": [
                    0,
                    1
                  ],
                  "title": {
                    "text": "index"
                  }
                },
                "yaxis": {
                  "anchor": "x",
                  "domain": [
                    0,
                    1
                  ],
                  "title": {
                    "text": "value"
                  }
                },
                "legend": {
                  "title": {
                    "text": "variable"
                  },
                  "tracegroupgap": 0
                },
                "title": {
                  "text": "GR: RPM vs Predicted RPM"
                }
              },
              "config": {
                "plotlyServerURL": "https://plot.ly"
              }
            },
            "text/html": "<div>                            <div id=\"f0681061-8957-4043-8fc6-4b6c67f14bbe\" class=\"plotly-graph-div\" style=\"height:525px; width:100%;\"></div>            <script type=\"text/javascript\">                require([\"plotly\"], function(Plotly) {                    window.PLOTLYENV=window.PLOTLYENV || {};                                    if (document.getElementById(\"f0681061-8957-4043-8fc6-4b6c67f14bbe\")) {                    Plotly.newPlot(                        \"f0681061-8957-4043-8fc6-4b6c67f14bbe\",                        [{\"hovertemplate\":\"variable=RPM<br>index=%{x}<br>value=%{y}<extra></extra>\",\"legendgroup\":\"RPM\",\"line\":{\"color\":\"#636efa\",\"dash\":\"solid\"},\"marker\":{\"symbol\":\"circle\"},\"mode\":\"lines\",\"name\":\"RPM\",\"orientation\":\"v\",\"showlegend\":true,\"x\":[0,1,2,3,4,5,6,7,8,9,10,11,12,13,14,15,16,17,18,19,20,21,22,23,24,25,26,27,28,29,30,31,32,33,34,35,36,37,38,39,40,41,42,43,44,45,46,47,48,49,50,51,52,53,54,55,56,57,58,59,60,61,62,63,64,65,66,67,68,69,70,71,72,73,74,75,76,77,78,79,80,81,82,83,84,85,86,87,88,89,90,91,92,93,94,95,96,97,98,99,100,101,102,103,104,105,106,107,108,109,110,111,112,113,114,115,116,117,118,119],\"xaxis\":\"x\",\"y\":[62.5,62.5,2.2899999618530273,3.369999885559082,4.210000038146973,2.6600000858306885,3.4200000762939453,2.5199999809265137,10.579999923706055,6.900000095367432,3.009999990463257,4.090000152587891,2.2899999618530273,2.700000047683716,20.829999923706055,3.059999942779541,2.049999952316284,6.900000095367432,2.869999885559082,3.6500000953674316,3.4000000953674316,2.109999895095825,3.609999895095825,2.109999895095825,3.0799999237060547,4.210000038146973,6.900000095367432,2.5899999141693115,2.5899999141693115,20.829999923706055,3.930000066757202,2.109999895095825,4.210000038146973,2.8299999237060547,2.6500000953674316,4.210000038146973,20.829999923706055,3.930000066757202,3.930000066757202,7.349999904632568,20.829999923706055,2.119999885559082,1.7999999523162842,2.640000104904175,4.210000038146973,2.950000047683716,2.299999952316284,2.2899999618530273,2.8299999237060547,4.210000038146973,2.2899999618530273,2.109999895095825,6.670000076293945,2.490000009536743,10.1899995803833,5.130000114440918,2.5199999809265137,2.430000066757202,3.6500000953674316,43.47999954223633,2.4100000858306885,3.6500000953674316,1.2999999523162842,2.109999895095825,2.690000057220459,43.47999954223633,2.1500000953674316,9.380000114440918,1.2999999523162842,3.7300000190734863,1.809999942779541,20.829999923706055,1.9800000190734863,3.5,1.2999999523162842,2.240000009536743,3.259999990463257,6.900000095367432,2.940000057220459,20.829999923706055,6.900000095367432,2.0899999141693115,1.5800000429153442,20.829999923706055,43.47999954223633,20.829999923706055,2.309999942779541,6.900000095367432,2.740000009536743,2.940000057220459,5.130000114440918,1.659999966621399,1.6799999475479126,2.940000057220459,2.1600000858306885,3.059999942779541,2.3399999141693115,2.3499999046325684,2.819999933242798,1.9800000190734863,2.490000009536743,2.0199999809265137,6.900000095367432,2.359999895095825,1.7400000095367432,1.559999942779541,1.7899999618530273,2.890000104904175,2.2799999713897705,1.5700000524520874,3.7200000286102295,1.9299999475479126,2.619999885559082,1.899999976158142,2.6600000858306885,3.5399999618530273,2.0899999141693115,2.7200000286102295,2.7200000286102295,2.9700000286102295],\"yaxis\":\"y\",\"type\":\"scatter\"},{\"hovertemplate\":\"variable=Predicted RPM<br>index=%{x}<br>value=%{y}<extra></extra>\",\"legendgroup\":\"Predicted RPM\",\"line\":{\"color\":\"#EF553B\",\"dash\":\"solid\"},\"marker\":{\"symbol\":\"circle\"},\"mode\":\"lines\",\"name\":\"Predicted RPM\",\"orientation\":\"v\",\"showlegend\":true,\"x\":[0,1,2,3,4,5,6,7,8,9,10,11,12,13,14,15,16,17,18,19,20,21,22,23,24,25,26,27,28,29,30,31,32,33,34,35,36,37,38,39,40,41,42,43,44,45,46,47,48,49,50,51,52,53,54,55,56,57,58,59,60,61,62,63,64,65,66,67,68,69,70,71,72,73,74,75,76,77,78,79,80,81,82,83,84,85,86,87,88,89,90,91,92,93,94,95,96,97,98,99,100,101,102,103,104,105,106,107,108,109,110,111,112,113,114,115,116,117,118,119],\"xaxis\":\"x\",\"y\":[78.42849940299988,78.42849940299988,2.330300009250641,4.5025000166893,4.50170001745224,2.2931999933719633,3.3836000394821166,2.5122000229358674,10.518399963378906,6.908000101894141,3.935700013637543,3.567300033569336,2.330300009250641,2.6637000226974488,20.798199920654298,2.6818999814987183,2.0859999799728395,6.923200106471777,2.7414999556541444,4.478100020885467,3.166699991226196,2.0991999781131745,4.115299999713898,2.2059000122547148,3.178599989414215,4.474100019931793,6.912500099986792,2.520099995136261,2.67889995098114,20.798199920654298,4.490800020694732,2.355299994945526,4.474100019931793,2.7193999695777893,2.3580000054836274,4.491800019741058,20.798199920654298,4.490800020694732,4.490800020694732,4.681499993801117,20.798199920654298,2.2997999942302703,2.2458999872207643,2.6788999795913697,4.474100019931793,4.450400011539459,2.4757999956607817,2.2708999848365785,2.7193999695777893,4.491800019741058,2.1200999963283538,2.0944999825954436,6.229800061881543,2.702399978637695,10.370199861526489,5.438599974960089,2.5122000229358674,2.504600021839142,3.4938000321388243,40.2468995475769,2.4090000212192537,3.4938000321388243,1.6445999979972838,2.253899998664856,2.5765000200271606,38.20469959259033,2.087000023126602,11.02050000190735,1.6445999979972838,3.662100033760071,1.8386999905109405,20.798199920654298,2.628900066614151,2.4016999900341034,1.6445999979972838,2.3408999955654144,2.985600023269653,6.912500099986792,2.9302000045776366,20.798199920654298,6.912500099986792,2.098099954128265,1.6815999960899353,20.798199920654298,40.34729953765869,20.798199920654298,2.3733000028133393,6.912500099986792,2.7278000116348267,2.9302000045776366,5.6052999804914,1.7559000110626222,1.826500004529953,2.659999988079071,2.1462000036239623,2.5680000030994417,2.2982999908924104,2.4992999982833863,3.3802999591827394,2.0213000106811525,2.471799992322922,2.088699984550476,6.912500099986792,2.3657999742031097,1.7159999883174897,1.8071999895572661,2.3492000377178193,2.8309000265598296,2.2973999786376953,1.5949000334739685,3.9707000184059145,2.0852999913692476,2.6120000088214876,1.8721000027656556,2.2077000093460084,3.955600007772446,2.098099954128265,3.014600019454956,2.829100012779236,2.476099979877472],\"yaxis\":\"y\",\"type\":\"scatter\"}],                        {\"template\":{\"data\":{\"histogram2dcontour\":[{\"type\":\"histogram2dcontour\",\"colorbar\":{\"outlinewidth\":0,\"ticks\":\"\"},\"colorscale\":[[0.0,\"#0d0887\"],[0.1111111111111111,\"#46039f\"],[0.2222222222222222,\"#7201a8\"],[0.3333333333333333,\"#9c179e\"],[0.4444444444444444,\"#bd3786\"],[0.5555555555555556,\"#d8576b\"],[0.6666666666666666,\"#ed7953\"],[0.7777777777777778,\"#fb9f3a\"],[0.8888888888888888,\"#fdca26\"],[1.0,\"#f0f921\"]]}],\"choropleth\":[{\"type\":\"choropleth\",\"colorbar\":{\"outlinewidth\":0,\"ticks\":\"\"}}],\"histogram2d\":[{\"type\":\"histogram2d\",\"colorbar\":{\"outlinewidth\":0,\"ticks\":\"\"},\"colorscale\":[[0.0,\"#0d0887\"],[0.1111111111111111,\"#46039f\"],[0.2222222222222222,\"#7201a8\"],[0.3333333333333333,\"#9c179e\"],[0.4444444444444444,\"#bd3786\"],[0.5555555555555556,\"#d8576b\"],[0.6666666666666666,\"#ed7953\"],[0.7777777777777778,\"#fb9f3a\"],[0.8888888888888888,\"#fdca26\"],[1.0,\"#f0f921\"]]}],\"heatmap\":[{\"type\":\"heatmap\",\"colorbar\":{\"outlinewidth\":0,\"ticks\":\"\"},\"colorscale\":[[0.0,\"#0d0887\"],[0.1111111111111111,\"#46039f\"],[0.2222222222222222,\"#7201a8\"],[0.3333333333333333,\"#9c179e\"],[0.4444444444444444,\"#bd3786\"],[0.5555555555555556,\"#d8576b\"],[0.6666666666666666,\"#ed7953\"],[0.7777777777777778,\"#fb9f3a\"],[0.8888888888888888,\"#fdca26\"],[1.0,\"#f0f921\"]]}],\"heatmapgl\":[{\"type\":\"heatmapgl\",\"colorbar\":{\"outlinewidth\":0,\"ticks\":\"\"},\"colorscale\":[[0.0,\"#0d0887\"],[0.1111111111111111,\"#46039f\"],[0.2222222222222222,\"#7201a8\"],[0.3333333333333333,\"#9c179e\"],[0.4444444444444444,\"#bd3786\"],[0.5555555555555556,\"#d8576b\"],[0.6666666666666666,\"#ed7953\"],[0.7777777777777778,\"#fb9f3a\"],[0.8888888888888888,\"#fdca26\"],[1.0,\"#f0f921\"]]}],\"contourcarpet\":[{\"type\":\"contourcarpet\",\"colorbar\":{\"outlinewidth\":0,\"ticks\":\"\"}}],\"contour\":[{\"type\":\"contour\",\"colorbar\":{\"outlinewidth\":0,\"ticks\":\"\"},\"colorscale\":[[0.0,\"#0d0887\"],[0.1111111111111111,\"#46039f\"],[0.2222222222222222,\"#7201a8\"],[0.3333333333333333,\"#9c179e\"],[0.4444444444444444,\"#bd3786\"],[0.5555555555555556,\"#d8576b\"],[0.6666666666666666,\"#ed7953\"],[0.7777777777777778,\"#fb9f3a\"],[0.8888888888888888,\"#fdca26\"],[1.0,\"#f0f921\"]]}],\"surface\":[{\"type\":\"surface\",\"colorbar\":{\"outlinewidth\":0,\"ticks\":\"\"},\"colorscale\":[[0.0,\"#0d0887\"],[0.1111111111111111,\"#46039f\"],[0.2222222222222222,\"#7201a8\"],[0.3333333333333333,\"#9c179e\"],[0.4444444444444444,\"#bd3786\"],[0.5555555555555556,\"#d8576b\"],[0.6666666666666666,\"#ed7953\"],[0.7777777777777778,\"#fb9f3a\"],[0.8888888888888888,\"#fdca26\"],[1.0,\"#f0f921\"]]}],\"mesh3d\":[{\"type\":\"mesh3d\",\"colorbar\":{\"outlinewidth\":0,\"ticks\":\"\"}}],\"scatter\":[{\"fillpattern\":{\"fillmode\":\"overlay\",\"size\":10,\"solidity\":0.2},\"type\":\"scatter\"}],\"parcoords\":[{\"type\":\"parcoords\",\"line\":{\"colorbar\":{\"outlinewidth\":0,\"ticks\":\"\"}}}],\"scatterpolargl\":[{\"type\":\"scatterpolargl\",\"marker\":{\"colorbar\":{\"outlinewidth\":0,\"ticks\":\"\"}}}],\"bar\":[{\"error_x\":{\"color\":\"#2a3f5f\"},\"error_y\":{\"color\":\"#2a3f5f\"},\"marker\":{\"line\":{\"color\":\"#E5ECF6\",\"width\":0.5},\"pattern\":{\"fillmode\":\"overlay\",\"size\":10,\"solidity\":0.2}},\"type\":\"bar\"}],\"scattergeo\":[{\"type\":\"scattergeo\",\"marker\":{\"colorbar\":{\"outlinewidth\":0,\"ticks\":\"\"}}}],\"scatterpolar\":[{\"type\":\"scatterpolar\",\"marker\":{\"colorbar\":{\"outlinewidth\":0,\"ticks\":\"\"}}}],\"histogram\":[{\"marker\":{\"pattern\":{\"fillmode\":\"overlay\",\"size\":10,\"solidity\":0.2}},\"type\":\"histogram\"}],\"scattergl\":[{\"type\":\"scattergl\",\"marker\":{\"colorbar\":{\"outlinewidth\":0,\"ticks\":\"\"}}}],\"scatter3d\":[{\"type\":\"scatter3d\",\"line\":{\"colorbar\":{\"outlinewidth\":0,\"ticks\":\"\"}},\"marker\":{\"colorbar\":{\"outlinewidth\":0,\"ticks\":\"\"}}}],\"scattermapbox\":[{\"type\":\"scattermapbox\",\"marker\":{\"colorbar\":{\"outlinewidth\":0,\"ticks\":\"\"}}}],\"scatterternary\":[{\"type\":\"scatterternary\",\"marker\":{\"colorbar\":{\"outlinewidth\":0,\"ticks\":\"\"}}}],\"scattercarpet\":[{\"type\":\"scattercarpet\",\"marker\":{\"colorbar\":{\"outlinewidth\":0,\"ticks\":\"\"}}}],\"carpet\":[{\"aaxis\":{\"endlinecolor\":\"#2a3f5f\",\"gridcolor\":\"white\",\"linecolor\":\"white\",\"minorgridcolor\":\"white\",\"startlinecolor\":\"#2a3f5f\"},\"baxis\":{\"endlinecolor\":\"#2a3f5f\",\"gridcolor\":\"white\",\"linecolor\":\"white\",\"minorgridcolor\":\"white\",\"startlinecolor\":\"#2a3f5f\"},\"type\":\"carpet\"}],\"table\":[{\"cells\":{\"fill\":{\"color\":\"#EBF0F8\"},\"line\":{\"color\":\"white\"}},\"header\":{\"fill\":{\"color\":\"#C8D4E3\"},\"line\":{\"color\":\"white\"}},\"type\":\"table\"}],\"barpolar\":[{\"marker\":{\"line\":{\"color\":\"#E5ECF6\",\"width\":0.5},\"pattern\":{\"fillmode\":\"overlay\",\"size\":10,\"solidity\":0.2}},\"type\":\"barpolar\"}],\"pie\":[{\"automargin\":true,\"type\":\"pie\"}]},\"layout\":{\"autotypenumbers\":\"strict\",\"colorway\":[\"#636efa\",\"#EF553B\",\"#00cc96\",\"#ab63fa\",\"#FFA15A\",\"#19d3f3\",\"#FF6692\",\"#B6E880\",\"#FF97FF\",\"#FECB52\"],\"font\":{\"color\":\"#2a3f5f\"},\"hovermode\":\"closest\",\"hoverlabel\":{\"align\":\"left\"},\"paper_bgcolor\":\"white\",\"plot_bgcolor\":\"#E5ECF6\",\"polar\":{\"bgcolor\":\"#E5ECF6\",\"angularaxis\":{\"gridcolor\":\"white\",\"linecolor\":\"white\",\"ticks\":\"\"},\"radialaxis\":{\"gridcolor\":\"white\",\"linecolor\":\"white\",\"ticks\":\"\"}},\"ternary\":{\"bgcolor\":\"#E5ECF6\",\"aaxis\":{\"gridcolor\":\"white\",\"linecolor\":\"white\",\"ticks\":\"\"},\"baxis\":{\"gridcolor\":\"white\",\"linecolor\":\"white\",\"ticks\":\"\"},\"caxis\":{\"gridcolor\":\"white\",\"linecolor\":\"white\",\"ticks\":\"\"}},\"coloraxis\":{\"colorbar\":{\"outlinewidth\":0,\"ticks\":\"\"}},\"colorscale\":{\"sequential\":[[0.0,\"#0d0887\"],[0.1111111111111111,\"#46039f\"],[0.2222222222222222,\"#7201a8\"],[0.3333333333333333,\"#9c179e\"],[0.4444444444444444,\"#bd3786\"],[0.5555555555555556,\"#d8576b\"],[0.6666666666666666,\"#ed7953\"],[0.7777777777777778,\"#fb9f3a\"],[0.8888888888888888,\"#fdca26\"],[1.0,\"#f0f921\"]],\"sequentialminus\":[[0.0,\"#0d0887\"],[0.1111111111111111,\"#46039f\"],[0.2222222222222222,\"#7201a8\"],[0.3333333333333333,\"#9c179e\"],[0.4444444444444444,\"#bd3786\"],[0.5555555555555556,\"#d8576b\"],[0.6666666666666666,\"#ed7953\"],[0.7777777777777778,\"#fb9f3a\"],[0.8888888888888888,\"#fdca26\"],[1.0,\"#f0f921\"]],\"diverging\":[[0,\"#8e0152\"],[0.1,\"#c51b7d\"],[0.2,\"#de77ae\"],[0.3,\"#f1b6da\"],[0.4,\"#fde0ef\"],[0.5,\"#f7f7f7\"],[0.6,\"#e6f5d0\"],[0.7,\"#b8e186\"],[0.8,\"#7fbc41\"],[0.9,\"#4d9221\"],[1,\"#276419\"]]},\"xaxis\":{\"gridcolor\":\"white\",\"linecolor\":\"white\",\"ticks\":\"\",\"title\":{\"standoff\":15},\"zerolinecolor\":\"white\",\"automargin\":true,\"zerolinewidth\":2},\"yaxis\":{\"gridcolor\":\"white\",\"linecolor\":\"white\",\"ticks\":\"\",\"title\":{\"standoff\":15},\"zerolinecolor\":\"white\",\"automargin\":true,\"zerolinewidth\":2},\"scene\":{\"xaxis\":{\"backgroundcolor\":\"#E5ECF6\",\"gridcolor\":\"white\",\"linecolor\":\"white\",\"showbackground\":true,\"ticks\":\"\",\"zerolinecolor\":\"white\",\"gridwidth\":2},\"yaxis\":{\"backgroundcolor\":\"#E5ECF6\",\"gridcolor\":\"white\",\"linecolor\":\"white\",\"showbackground\":true,\"ticks\":\"\",\"zerolinecolor\":\"white\",\"gridwidth\":2},\"zaxis\":{\"backgroundcolor\":\"#E5ECF6\",\"gridcolor\":\"white\",\"linecolor\":\"white\",\"showbackground\":true,\"ticks\":\"\",\"zerolinecolor\":\"white\",\"gridwidth\":2}},\"shapedefaults\":{\"line\":{\"color\":\"#2a3f5f\"}},\"annotationdefaults\":{\"arrowcolor\":\"#2a3f5f\",\"arrowhead\":0,\"arrowwidth\":1},\"geo\":{\"bgcolor\":\"white\",\"landcolor\":\"#E5ECF6\",\"subunitcolor\":\"white\",\"showland\":true,\"showlakes\":true,\"lakecolor\":\"white\"},\"title\":{\"x\":0.05},\"mapbox\":{\"style\":\"light\"}}},\"xaxis\":{\"anchor\":\"y\",\"domain\":[0.0,1.0],\"title\":{\"text\":\"index\"}},\"yaxis\":{\"anchor\":\"x\",\"domain\":[0.0,1.0],\"title\":{\"text\":\"value\"}},\"legend\":{\"title\":{\"text\":\"variable\"},\"tracegroupgap\":0},\"title\":{\"text\":\"GR: RPM vs Predicted RPM\"}},                        {\"responsive\": true}                    ).then(function(){\n                            \nvar gd = document.getElementById('f0681061-8957-4043-8fc6-4b6c67f14bbe');\nvar x = new MutationObserver(function (mutations, observer) {{\n        var display = window.getComputedStyle(gd).display;\n        if (!display || display === 'none') {{\n            console.log([gd, 'removed!']);\n            Plotly.purge(gd);\n            observer.disconnect();\n        }}\n}});\n\n// Listen for the removal of the full notebook cells\nvar notebookContainer = gd.closest('#notebook-container');\nif (notebookContainer) {{\n    x.observe(notebookContainer, {childList: true});\n}}\n\n// Listen for the clearing of the current output cell\nvar outputEl = gd.closest('.output');\nif (outputEl) {{\n    x.observe(outputEl, {childList: true});\n}}\n\n                        })                };                });            </script>        </div>"
          },
          "metadata": {}
        }
      ],
      "execution_count": null,
      "metadata": {
        "jupyter": {
          "source_hidden": false,
          "outputs_hidden": false
        },
        "nteract": {
          "transient": {
            "deleting": false
          }
        },
        "gather": {
          "logged": 1694452859980
        },
        "id": "r63bR64OWRMn",
        "outputId": "f9b69c1d-d7b2-4ae1-f1ae-6c61c313922b"
      }
    },
    {
      "cell_type": "code",
      "source": [
        "import matplotlib.pyplot as plt\n",
        "\n",
        "# Assuming 'predictions' is your DataFrame\n",
        "\n",
        "# Create a figure with subplots\n",
        "fig, axs = plt.subplots(3, 1, figsize=(10, 12))\n",
        "\n",
        "# Plot RPM vs. Predicted RPM\n",
        "axs[0].plot(predictions.index, predictions['RPM'], label='RPM', color='blue')\n",
        "axs[0].plot(predictions.index, predictions['Predicted RPM'], label='Predicted RPM', color='green')\n",
        "axs[0].set_title('RPM vs Predicted RPM')\n",
        "axs[0].set_ylabel('RPM')\n",
        "axs[0].legend()\n",
        "\n",
        "# Plot Miles\n",
        "axs[1].plot(predictions.index, predictions['Miles'], label='Miles', color='orange')\n",
        "axs[1].set_title('Miles')\n",
        "axs[1].set_ylabel('Miles')\n",
        "\n",
        "# Plot Miles (zoomed in)\n",
        "axs[2].plot(predictions.index, predictions['Miles'], label='Miles', color='orange')\n",
        "axs[2].set_title('Miles (Zoomed In)')\n",
        "axs[2].set_xlabel('Data Point')\n",
        "axs[2].set_ylabel('Miles')\n",
        "axs[2].set_xlim(0, len(predictions))  # Adjust the x-axis limits for zooming\n",
        "\n",
        "plt.tight_layout()\n",
        "plt.show()\n"
      ],
      "outputs": [
        {
          "output_type": "stream",
          "name": "stderr",
          "text": "findfont: Generic family 'sans-serif' not found because none of the following families were found: Arial, Liberation Sans, Bitstream Vera Sans, sans-serif\nfindfont: Generic family 'sans-serif' not found because none of the following families were found: Arial, Liberation Sans, Bitstream Vera Sans, sans-serif\nfindfont: Generic family 'sans-serif' not found because none of the following families were found: Arial, Liberation Sans, Bitstream Vera Sans, sans-serif\nfindfont: Generic family 'sans-serif' not found because none of the following families were found: Arial, Liberation Sans, Bitstream Vera Sans, sans-serif\nfindfont: Generic family 'sans-serif' not found because none of the following families were found: Arial, Liberation Sans, Bitstream Vera Sans, sans-serif\nfindfont: Generic family 'sans-serif' not found because none of the following families were found: Arial, Liberation Sans, Bitstream Vera Sans, sans-serif\nfindfont: Generic family 'sans-serif' not found because none of the following families were found: Arial, Liberation Sans, Bitstream Vera Sans, sans-serif\nfindfont: Generic family 'sans-serif' not found because none of the following families were found: Arial, Liberation Sans, Bitstream Vera Sans, sans-serif\nfindfont: Generic family 'sans-serif' not found because none of the following families were found: Arial, Liberation Sans, Bitstream Vera Sans, sans-serif\nfindfont: Generic family 'sans-serif' not found because none of the following families were found: Arial, Liberation Sans, Bitstream Vera Sans, sans-serif\nfindfont: Generic family 'sans-serif' not found because none of the following families were found: Arial, Liberation Sans, Bitstream Vera Sans, sans-serif\nfindfont: Generic family 'sans-serif' not found because none of the following families were found: Arial, Liberation Sans, Bitstream Vera Sans, sans-serif\nfindfont: Generic family 'sans-serif' not found because none of the following families were found: Arial, Liberation Sans, Bitstream Vera Sans, sans-serif\nfindfont: Generic family 'sans-serif' not found because none of the following families were found: Arial, Liberation Sans, Bitstream Vera Sans, sans-serif\nfindfont: Generic family 'sans-serif' not found because none of the following families were found: Arial, Liberation Sans, Bitstream Vera Sans, sans-serif\nfindfont: Generic family 'sans-serif' not found because none of the following families were found: Arial, Liberation Sans, Bitstream Vera Sans, sans-serif\nfindfont: Generic family 'sans-serif' not found because none of the following families were found: Arial, Liberation Sans, Bitstream Vera Sans, sans-serif\nfindfont: Generic family 'sans-serif' not found because none of the following families were found: Arial, Liberation Sans, Bitstream Vera Sans, sans-serif\nfindfont: Generic family 'sans-serif' not found because none of the following families were found: Arial, Liberation Sans, Bitstream Vera Sans, sans-serif\nfindfont: Generic family 'sans-serif' not found because none of the following families were found: Arial, Liberation Sans, Bitstream Vera Sans, sans-serif\nfindfont: Generic family 'sans-serif' not found because none of the following families were found: Arial, Liberation Sans, Bitstream Vera Sans, sans-serif\nfindfont: Generic family 'sans-serif' not found because none of the following families were found: Arial, Liberation Sans, Bitstream Vera Sans, sans-serif\nfindfont: Generic family 'sans-serif' not found because none of the following families were found: Arial, Liberation Sans, Bitstream Vera Sans, sans-serif\nfindfont: Generic family 'sans-serif' not found because none of the following families were found: Arial, Liberation Sans, Bitstream Vera Sans, sans-serif\nfindfont: Generic family 'sans-serif' not found because none of the following families were found: Arial, Liberation Sans, Bitstream Vera Sans, sans-serif\nfindfont: Generic family 'sans-serif' not found because none of the following families were found: Arial, Liberation Sans, Bitstream Vera Sans, sans-serif\nfindfont: Generic family 'sans-serif' not found because none of the following families were found: Arial, Liberation Sans, Bitstream Vera Sans, sans-serif\nfindfont: Generic family 'sans-serif' not found because none of the following families were found: Arial, Liberation Sans, Bitstream Vera Sans, sans-serif\nfindfont: Generic family 'sans-serif' not found because none of the following families were found: Arial, Liberation Sans, Bitstream Vera Sans, sans-serif\nfindfont: Generic family 'sans-serif' not found because none of the following families were found: Arial, Liberation Sans, Bitstream Vera Sans, sans-serif\nfindfont: Generic family 'sans-serif' not found because none of the following families were found: Arial, Liberation Sans, Bitstream Vera Sans, sans-serif\nfindfont: Generic family 'sans-serif' not found because none of the following families were found: Arial, Liberation Sans, Bitstream Vera Sans, sans-serif\nfindfont: Generic family 'sans-serif' not found because none of the following families were found: Arial, Liberation Sans, Bitstream Vera Sans, sans-serif\nfindfont: Generic family 'sans-serif' not found because none of the following families were found: Arial, Liberation Sans, Bitstream Vera Sans, sans-serif\nfindfont: Generic family 'sans-serif' not found because none of the following families were found: Arial, Liberation Sans, Bitstream Vera Sans, sans-serif\nfindfont: Generic family 'sans-serif' not found because none of the following families were found: Arial, Liberation Sans, Bitstream Vera Sans, sans-serif\nfindfont: Generic family 'sans-serif' not found because none of the following families were found: Arial, Liberation Sans, Bitstream Vera Sans, sans-serif\nfindfont: Generic family 'sans-serif' not found because none of the following families were found: Arial, Liberation Sans, Bitstream Vera Sans, sans-serif\nfindfont: Generic family 'sans-serif' not found because none of the following families were found: Arial, Liberation Sans, Bitstream Vera Sans, sans-serif\nfindfont: Generic family 'sans-serif' not found because none of the following families were found: Arial, Liberation Sans, Bitstream Vera Sans, sans-serif\nfindfont: Generic family 'sans-serif' not found because none of the following families were found: Arial, Liberation Sans, Bitstream Vera Sans, sans-serif\nfindfont: Generic family 'sans-serif' not found because none of the following families were found: Arial, Liberation Sans, Bitstream Vera Sans, sans-serif\nfindfont: Generic family 'sans-serif' not found because none of the following families were found: Arial, Liberation Sans, Bitstream Vera Sans, sans-serif\nfindfont: Generic family 'sans-serif' not found because none of the following families were found: Arial, Liberation Sans, Bitstream Vera Sans, sans-serif\nfindfont: Generic family 'sans-serif' not found because none of the following families were found: Arial, Liberation Sans, Bitstream Vera Sans, sans-serif\nfindfont: Generic family 'sans-serif' not found because none of the following families were found: Arial, Liberation Sans, Bitstream Vera Sans, sans-serif\nfindfont: Generic family 'sans-serif' not found because none of the following families were found: Arial, Liberation Sans, Bitstream Vera Sans, sans-serif\nfindfont: Generic family 'sans-serif' not found because none of the following families were found: Arial, Liberation Sans, Bitstream Vera Sans, sans-serif\nfindfont: Generic family 'sans-serif' not found because none of the following families were found: Arial, Liberation Sans, Bitstream Vera Sans, sans-serif\nfindfont: Generic family 'sans-serif' not found because none of the following families were found: Arial, Liberation Sans, Bitstream Vera Sans, sans-serif\nfindfont: Generic family 'sans-serif' not found because none of the following families were found: Arial, Liberation Sans, Bitstream Vera Sans, sans-serif\nfindfont: Generic family 'sans-serif' not found because none of the following families were found: Arial, Liberation Sans, Bitstream Vera Sans, sans-serif\nfindfont: Generic family 'sans-serif' not found because none of the following families were found: Arial, Liberation Sans, Bitstream Vera Sans, sans-serif\nfindfont: Generic family 'sans-serif' not found because none of the following families were found: Arial, Liberation Sans, Bitstream Vera Sans, sans-serif\nfindfont: Generic family 'sans-serif' not found because none of the following families were found: Arial, Liberation Sans, Bitstream Vera Sans, sans-serif\nfindfont: Generic family 'sans-serif' not found because none of the following families were found: Arial, Liberation Sans, Bitstream Vera Sans, sans-serif\nfindfont: Generic family 'sans-serif' not found because none of the following families were found: Arial, Liberation Sans, Bitstream Vera Sans, sans-serif\nfindfont: Generic family 'sans-serif' not found because none of the following families were found: Arial, Liberation Sans, Bitstream Vera Sans, sans-serif\nfindfont: Generic family 'sans-serif' not found because none of the following families were found: Arial, Liberation Sans, Bitstream Vera Sans, sans-serif\nfindfont: Generic family 'sans-serif' not found because none of the following families were found: Arial, Liberation Sans, Bitstream Vera Sans, sans-serif\nfindfont: Generic family 'sans-serif' not found because none of the following families were found: Arial, Liberation Sans, Bitstream Vera Sans, sans-serif\nfindfont: Generic family 'sans-serif' not found because none of the following families were found: Arial, Liberation Sans, Bitstream Vera Sans, sans-serif\nfindfont: Generic family 'sans-serif' not found because none of the following families were found: Arial, Liberation Sans, Bitstream Vera Sans, sans-serif\nfindfont: Generic family 'sans-serif' not found because none of the following families were found: Arial, Liberation Sans, Bitstream Vera Sans, sans-serif\nfindfont: Generic family 'sans-serif' not found because none of the following families were found: Arial, Liberation Sans, Bitstream Vera Sans, sans-serif\nfindfont: Generic family 'sans-serif' not found because none of the following families were found: Arial, Liberation Sans, Bitstream Vera Sans, sans-serif\nfindfont: Generic family 'sans-serif' not found because none of the following families were found: Arial, Liberation Sans, Bitstream Vera Sans, sans-serif\nfindfont: Generic family 'sans-serif' not found because none of the following families were found: Arial, Liberation Sans, Bitstream Vera Sans, sans-serif\nfindfont: Generic family 'sans-serif' not found because none of the following families were found: Arial, Liberation Sans, Bitstream Vera Sans, sans-serif\nfindfont: Generic family 'sans-serif' not found because none of the following families were found: Arial, Liberation Sans, Bitstream Vera Sans, sans-serif\nfindfont: Generic family 'sans-serif' not found because none of the following families were found: Arial, Liberation Sans, Bitstream Vera Sans, sans-serif\nfindfont: Generic family 'sans-serif' not found because none of the following families were found: Arial, Liberation Sans, Bitstream Vera Sans, sans-serif\nfindfont: Generic family 'sans-serif' not found because none of the following families were found: Arial, Liberation Sans, Bitstream Vera Sans, sans-serif\nfindfont: Generic family 'sans-serif' not found because none of the following families were found: Arial, Liberation Sans, Bitstream Vera Sans, sans-serif\nfindfont: Generic family 'sans-serif' not found because none of the following families were found: Arial, Liberation Sans, Bitstream Vera Sans, sans-serif\nfindfont: Generic family 'sans-serif' not found because none of the following families were found: Arial, Liberation Sans, Bitstream Vera Sans, sans-serif\nfindfont: Generic family 'sans-serif' not found because none of the following families were found: Arial, Liberation Sans, Bitstream Vera Sans, sans-serif\nfindfont: Generic family 'sans-serif' not found because none of the following families were found: Arial, Liberation Sans, Bitstream Vera Sans, sans-serif\nfindfont: Generic family 'sans-serif' not found because none of the following families were found: Arial, Liberation Sans, Bitstream Vera Sans, sans-serif\nfindfont: Generic family 'sans-serif' not found because none of the following families were found: Arial, Liberation Sans, Bitstream Vera Sans, sans-serif\nfindfont: Generic family 'sans-serif' not found because none of the following families were found: Arial, Liberation Sans, Bitstream Vera Sans, sans-serif\nfindfont: Generic family 'sans-serif' not found because none of the following families were found: Arial, Liberation Sans, Bitstream Vera Sans, sans-serif\nfindfont: Generic family 'sans-serif' not found because none of the following families were found: Arial, Liberation Sans, Bitstream Vera Sans, sans-serif\nfindfont: Generic family 'sans-serif' not found because none of the following families were found: Arial, Liberation Sans, Bitstream Vera Sans, sans-serif\nfindfont: Generic family 'sans-serif' not found because none of the following families were found: Arial, Liberation Sans, Bitstream Vera Sans, sans-serif\nfindfont: Generic family 'sans-serif' not found because none of the following families were found: Arial, Liberation Sans, Bitstream Vera Sans, sans-serif\nfindfont: Generic family 'sans-serif' not found because none of the following families were found: Arial, Liberation Sans, Bitstream Vera Sans, sans-serif\nfindfont: Generic family 'sans-serif' not found because none of the following families were found: Arial, Liberation Sans, Bitstream Vera Sans, sans-serif\nfindfont: Generic family 'sans-serif' not found because none of the following families were found: Arial, Liberation Sans, Bitstream Vera Sans, sans-serif\nfindfont: Generic family 'sans-serif' not found because none of the following families were found: Arial, Liberation Sans, Bitstream Vera Sans, sans-serif\nfindfont: Generic family 'sans-serif' not found because none of the following families were found: Arial, Liberation Sans, Bitstream Vera Sans, sans-serif\nfindfont: Generic family 'sans-serif' not found because none of the following families were found: Arial, Liberation Sans, Bitstream Vera Sans, sans-serif\nfindfont: Generic family 'sans-serif' not found because none of the following families were found: Arial, Liberation Sans, Bitstream Vera Sans, sans-serif\nfindfont: Generic family 'sans-serif' not found because none of the following families were found: Arial, Liberation Sans, Bitstream Vera Sans, sans-serif\nfindfont: Generic family 'sans-serif' not found because none of the following families were found: Arial, Liberation Sans, Bitstream Vera Sans, sans-serif\nfindfont: Generic family 'sans-serif' not found because none of the following families were found: Arial, Liberation Sans, Bitstream Vera Sans, sans-serif\nfindfont: Generic family 'sans-serif' not found because none of the following families were found: Arial, Liberation Sans, Bitstream Vera Sans, sans-serif\nfindfont: Generic family 'sans-serif' not found because none of the following families were found: Arial, Liberation Sans, Bitstream Vera Sans, sans-serif\nfindfont: Generic family 'sans-serif' not found because none of the following families were found: Arial, Liberation Sans, Bitstream Vera Sans, sans-serif\nfindfont: Generic family 'sans-serif' not found because none of the following families were found: Arial, Liberation Sans, Bitstream Vera Sans, sans-serif\nfindfont: Generic family 'sans-serif' not found because none of the following families were found: Arial, Liberation Sans, Bitstream Vera Sans, sans-serif\nfindfont: Generic family 'sans-serif' not found because none of the following families were found: Arial, Liberation Sans, Bitstream Vera Sans, sans-serif\nfindfont: Generic family 'sans-serif' not found because none of the following families were found: Arial, Liberation Sans, Bitstream Vera Sans, sans-serif\nfindfont: Generic family 'sans-serif' not found because none of the following families were found: Arial, Liberation Sans, Bitstream Vera Sans, sans-serif\nfindfont: Generic family 'sans-serif' not found because none of the following families were found: Arial, Liberation Sans, Bitstream Vera Sans, sans-serif\nfindfont: Generic family 'sans-serif' not found because none of the following families were found: Arial, Liberation Sans, Bitstream Vera Sans, sans-serif\nfindfont: Generic family 'sans-serif' not found because none of the following families were found: Arial, Liberation Sans, Bitstream Vera Sans, sans-serif\nfindfont: Generic family 'sans-serif' not found because none of the following families were found: Arial, Liberation Sans, Bitstream Vera Sans, sans-serif\nfindfont: Generic family 'sans-serif' not found because none of the following families were found: Arial, Liberation Sans, Bitstream Vera Sans, sans-serif\nfindfont: Generic family 'sans-serif' not found because none of the following families were found: Arial, Liberation Sans, Bitstream Vera Sans, sans-serif\nfindfont: Generic family 'sans-serif' not found because none of the following families were found: Arial, Liberation Sans, Bitstream Vera Sans, sans-serif\nfindfont: Generic family 'sans-serif' not found because none of the following families were found: Arial, Liberation Sans, Bitstream Vera Sans, sans-serif\nfindfont: Generic family 'sans-serif' not found because none of the following families were found: Arial, Liberation Sans, Bitstream Vera Sans, sans-serif\nfindfont: Generic family 'sans-serif' not found because none of the following families were found: Arial, Liberation Sans, Bitstream Vera Sans, sans-serif\nfindfont: Generic family 'sans-serif' not found because none of the following families were found: Arial, Liberation Sans, Bitstream Vera Sans, sans-serif\nfindfont: Generic family 'sans-serif' not found because none of the following families were found: Arial, Liberation Sans, Bitstream Vera Sans, sans-serif\nfindfont: Generic family 'sans-serif' not found because none of the following families were found: Arial, Liberation Sans, Bitstream Vera Sans, sans-serif\nfindfont: Generic family 'sans-serif' not found because none of the following families were found: Arial, Liberation Sans, Bitstream Vera Sans, sans-serif\nfindfont: Generic family 'sans-serif' not found because none of the following families were found: Arial, Liberation Sans, Bitstream Vera Sans, sans-serif\nfindfont: Generic family 'sans-serif' not found because none of the following families were found: Arial, Liberation Sans, Bitstream Vera Sans, sans-serif\nfindfont: Generic family 'sans-serif' not found because none of the following families were found: Arial, Liberation Sans, Bitstream Vera Sans, sans-serif\nfindfont: Generic family 'sans-serif' not found because none of the following families were found: Arial, Liberation Sans, Bitstream Vera Sans, sans-serif\nfindfont: Generic family 'sans-serif' not found because none of the following families were found: Arial, Liberation Sans, Bitstream Vera Sans, sans-serif\nfindfont: Generic family 'sans-serif' not found because none of the following families were found: Arial, Liberation Sans, Bitstream Vera Sans, sans-serif\nfindfont: Generic family 'sans-serif' not found because none of the following families were found: Arial, Liberation Sans, Bitstream Vera Sans, sans-serif\nfindfont: Generic family 'sans-serif' not found because none of the following families were found: Arial, Liberation Sans, Bitstream Vera Sans, sans-serif\nfindfont: Generic family 'sans-serif' not found because none of the following families were found: Arial, Liberation Sans, Bitstream Vera Sans, sans-serif\nfindfont: Generic family 'sans-serif' not found because none of the following families were found: Arial, Liberation Sans, Bitstream Vera Sans, sans-serif\nfindfont: Generic family 'sans-serif' not found because none of the following families were found: Arial, Liberation Sans, Bitstream Vera Sans, sans-serif\nfindfont: Generic family 'sans-serif' not found because none of the following families were found: Arial, Liberation Sans, Bitstream Vera Sans, sans-serif\nfindfont: Generic family 'sans-serif' not found because none of the following families were found: Arial, Liberation Sans, Bitstream Vera Sans, sans-serif\nfindfont: Generic family 'sans-serif' not found because none of the following families were found: Arial, Liberation Sans, Bitstream Vera Sans, sans-serif\nfindfont: Generic family 'sans-serif' not found because none of the following families were found: Arial, Liberation Sans, Bitstream Vera Sans, sans-serif\nfindfont: Generic family 'sans-serif' not found because none of the following families were found: Arial, Liberation Sans, Bitstream Vera Sans, sans-serif\nfindfont: Generic family 'sans-serif' not found because none of the following families were found: Arial, Liberation Sans, Bitstream Vera Sans, sans-serif\nfindfont: Generic family 'sans-serif' not found because none of the following families were found: Arial, Liberation Sans, Bitstream Vera Sans, sans-serif\nfindfont: Generic family 'sans-serif' not found because none of the following families were found: Arial, Liberation Sans, Bitstream Vera Sans, sans-serif\nfindfont: Generic family 'sans-serif' not found because none of the following families were found: Arial, Liberation Sans, Bitstream Vera Sans, sans-serif\nfindfont: Generic family 'sans-serif' not found because none of the following families were found: Arial, Liberation Sans, Bitstream Vera Sans, sans-serif\nfindfont: Generic family 'sans-serif' not found because none of the following families were found: Arial, Liberation Sans, Bitstream Vera Sans, sans-serif\nfindfont: Generic family 'sans-serif' not found because none of the following families were found: Arial, Liberation Sans, Bitstream Vera Sans, sans-serif\n"
        },
        {
          "output_type": "display_data",
          "data": {
            "text/plain": "<Figure size 1000x1200 with 3 Axes>",
            "image/png": "[encoded data removed]"
          },
          "metadata": {}
        }
      ],
      "execution_count": null,
      "metadata": {
        "jupyter": {
          "source_hidden": false,
          "outputs_hidden": false
        },
        "nteract": {
          "transient": {
            "deleting": false
          }
        },
        "gather": {
          "logged": 1694467887811
        },
        "id": "OhpGEq5-WRMo",
        "outputId": "d356d0fa-4349-4f87-c8aa-8e2e57de9995"
      }
    },
    {
      "cell_type": "code",
      "source": [
        "import matplotlib.pyplot as plt\n",
        "\n",
        "# Assuming 'predictions' is your DataFrame\n",
        "\n",
        "# Create a figure and axis\n",
        "fig, ax1 = plt.subplots(figsize=(10, 6))\n",
        "\n",
        "# Plot RPM and Predicted RPM on the primary y-axis\n",
        "ax1.plot(predictions.index, predictions['RPM'], label='RPM', color='blue')\n",
        "ax1.plot(predictions.index, predictions['Predicted RPM'], label='Predicted RPM', color='green')\n",
        "ax1.set_xlabel('Data Point')\n",
        "ax1.set_ylabel('RPM and Predicted RPM')\n",
        "ax1.set_title('GR: RPM vs Predicted RPM vs Miles')\n",
        "ax1.legend(loc='upper left')\n",
        "\n",
        "# Create a secondary y-axis for Miles\n",
        "ax2 = ax1.twinx()\n",
        "ax2.plot(predictions.index, predictions['Miles'], label='Miles', color='orange')\n",
        "ax2.set_ylabel('Miles')\n",
        "\n",
        "# Combine legends from both axes\n",
        "lines1, labels1 = ax1.get_legend_handles_labels()\n",
        "lines2, labels2 = ax2.get_legend_handles_labels()\n",
        "lines = lines1 + lines2\n",
        "labels = labels1 + labels2\n",
        "ax1.legend(lines, labels, loc='upper right')\n",
        "\n",
        "plt.show()\n"
      ],
      "outputs": [
        {
          "output_type": "stream",
          "name": "stderr",
          "text": "findfont: Generic family 'sans-serif' not found because none of the following families were found: Arial, Liberation Sans, Bitstream Vera Sans, sans-serif\nfindfont: Generic family 'sans-serif' not found because none of the following families were found: Arial, Liberation Sans, Bitstream Vera Sans, sans-serif\nfindfont: Generic family 'sans-serif' not found because none of the following families were found: Arial, Liberation Sans, Bitstream Vera Sans, sans-serif\nfindfont: Generic family 'sans-serif' not found because none of the following families were found: Arial, Liberation Sans, Bitstream Vera Sans, sans-serif\nfindfont: Generic family 'sans-serif' not found because none of the following families were found: Arial, Liberation Sans, Bitstream Vera Sans, sans-serif\nfindfont: Generic family 'sans-serif' not found because none of the following families were found: Arial, Liberation Sans, Bitstream Vera Sans, sans-serif\nfindfont: Generic family 'sans-serif' not found because none of the following families were found: Arial, Liberation Sans, Bitstream Vera Sans, sans-serif\nfindfont: Generic family 'sans-serif' not found because none of the following families were found: Arial, Liberation Sans, Bitstream Vera Sans, sans-serif\nfindfont: Generic family 'sans-serif' not found because none of the following families were found: Arial, Liberation Sans, Bitstream Vera Sans, sans-serif\nfindfont: Generic family 'sans-serif' not found because none of the following families were found: Arial, Liberation Sans, Bitstream Vera Sans, sans-serif\nfindfont: Generic family 'sans-serif' not found because none of the following families were found: Arial, Liberation Sans, Bitstream Vera Sans, sans-serif\nfindfont: Generic family 'sans-serif' not found because none of the following families were found: Arial, Liberation Sans, Bitstream Vera Sans, sans-serif\nfindfont: Generic family 'sans-serif' not found because none of the following families were found: Arial, Liberation Sans, Bitstream Vera Sans, sans-serif\nfindfont: Generic family 'sans-serif' not found because none of the following families were found: Arial, Liberation Sans, Bitstream Vera Sans, sans-serif\nfindfont: Generic family 'sans-serif' not found because none of the following families were found: Arial, Liberation Sans, Bitstream Vera Sans, sans-serif\nfindfont: Generic family 'sans-serif' not found because none of the following families were found: Arial, Liberation Sans, Bitstream Vera Sans, sans-serif\nfindfont: Generic family 'sans-serif' not found because none of the following families were found: Arial, Liberation Sans, Bitstream Vera Sans, sans-serif\nfindfont: Generic family 'sans-serif' not found because none of the following families were found: Arial, Liberation Sans, Bitstream Vera Sans, sans-serif\nfindfont: Generic family 'sans-serif' not found because none of the following families were found: Arial, Liberation Sans, Bitstream Vera Sans, sans-serif\nfindfont: Generic family 'sans-serif' not found because none of the following families were found: Arial, Liberation Sans, Bitstream Vera Sans, sans-serif\nfindfont: Generic family 'sans-serif' not found because none of the following families were found: Arial, Liberation Sans, Bitstream Vera Sans, sans-serif\nfindfont: Generic family 'sans-serif' not found because none of the following families were found: Arial, Liberation Sans, Bitstream Vera Sans, sans-serif\nfindfont: Generic family 'sans-serif' not found because none of the following families were found: Arial, Liberation Sans, Bitstream Vera Sans, sans-serif\nfindfont: Generic family 'sans-serif' not found because none of the following families were found: Arial, Liberation Sans, Bitstream Vera Sans, sans-serif\nfindfont: Generic family 'sans-serif' not found because none of the following families were found: Arial, Liberation Sans, Bitstream Vera Sans, sans-serif\nfindfont: Generic family 'sans-serif' not found because none of the following families were found: Arial, Liberation Sans, Bitstream Vera Sans, sans-serif\nfindfont: Generic family 'sans-serif' not found because none of the following families were found: Arial, Liberation Sans, Bitstream Vera Sans, sans-serif\nfindfont: Generic family 'sans-serif' not found because none of the following families were found: Arial, Liberation Sans, Bitstream Vera Sans, sans-serif\nfindfont: Generic family 'sans-serif' not found because none of the following families were found: Arial, Liberation Sans, Bitstream Vera Sans, sans-serif\nfindfont: Generic family 'sans-serif' not found because none of the following families were found: Arial, Liberation Sans, Bitstream Vera Sans, sans-serif\nfindfont: Generic family 'sans-serif' not found because none of the following families were found: Arial, Liberation Sans, Bitstream Vera Sans, sans-serif\nfindfont: Generic family 'sans-serif' not found because none of the following families were found: Arial, Liberation Sans, Bitstream Vera Sans, sans-serif\nfindfont: Generic family 'sans-serif' not found because none of the following families were found: Arial, Liberation Sans, Bitstream Vera Sans, sans-serif\nfindfont: Generic family 'sans-serif' not found because none of the following families were found: Arial, Liberation Sans, Bitstream Vera Sans, sans-serif\nfindfont: Generic family 'sans-serif' not found because none of the following families were found: Arial, Liberation Sans, Bitstream Vera Sans, sans-serif\nfindfont: Generic family 'sans-serif' not found because none of the following families were found: Arial, Liberation Sans, Bitstream Vera Sans, sans-serif\nfindfont: Generic family 'sans-serif' not found because none of the following families were found: Arial, Liberation Sans, Bitstream Vera Sans, sans-serif\nfindfont: Generic family 'sans-serif' not found because none of the following families were found: Arial, Liberation Sans, Bitstream Vera Sans, sans-serif\nfindfont: Generic family 'sans-serif' not found because none of the following families were found: Arial, Liberation Sans, Bitstream Vera Sans, sans-serif\nfindfont: Generic family 'sans-serif' not found because none of the following families were found: Arial, Liberation Sans, Bitstream Vera Sans, sans-serif\nfindfont: Generic family 'sans-serif' not found because none of the following families were found: Arial, Liberation Sans, Bitstream Vera Sans, sans-serif\nfindfont: Generic family 'sans-serif' not found because none of the following families were found: Arial, Liberation Sans, Bitstream Vera Sans, sans-serif\nfindfont: Generic family 'sans-serif' not found because none of the following families were found: Arial, Liberation Sans, Bitstream Vera Sans, sans-serif\nfindfont: Generic family 'sans-serif' not found because none of the following families were found: Arial, Liberation Sans, Bitstream Vera Sans, sans-serif\nfindfont: Generic family 'sans-serif' not found because none of the following families were found: Arial, Liberation Sans, Bitstream Vera Sans, sans-serif\nfindfont: Generic family 'sans-serif' not found because none of the following families were found: Arial, Liberation Sans, Bitstream Vera Sans, sans-serif\nfindfont: Generic family 'sans-serif' not found because none of the following families were found: Arial, Liberation Sans, Bitstream Vera Sans, sans-serif\nfindfont: Generic family 'sans-serif' not found because none of the following families were found: Arial, Liberation Sans, Bitstream Vera Sans, sans-serif\nfindfont: Generic family 'sans-serif' not found because none of the following families were found: Arial, Liberation Sans, Bitstream Vera Sans, sans-serif\nfindfont: Generic family 'sans-serif' not found because none of the following families were found: Arial, Liberation Sans, Bitstream Vera Sans, sans-serif\nfindfont: Generic family 'sans-serif' not found because none of the following families were found: Arial, Liberation Sans, Bitstream Vera Sans, sans-serif\nfindfont: Generic family 'sans-serif' not found because none of the following families were found: Arial, Liberation Sans, Bitstream Vera Sans, sans-serif\nfindfont: Generic family 'sans-serif' not found because none of the following families were found: Arial, Liberation Sans, Bitstream Vera Sans, sans-serif\nfindfont: Generic family 'sans-serif' not found because none of the following families were found: Arial, Liberation Sans, Bitstream Vera Sans, sans-serif\nfindfont: Generic family 'sans-serif' not found because none of the following families were found: Arial, Liberation Sans, Bitstream Vera Sans, sans-serif\nfindfont: Generic family 'sans-serif' not found because none of the following families were found: Arial, Liberation Sans, Bitstream Vera Sans, sans-serif\nfindfont: Generic family 'sans-serif' not found because none of the following families were found: Arial, Liberation Sans, Bitstream Vera Sans, sans-serif\nfindfont: Generic family 'sans-serif' not found because none of the following families were found: Arial, Liberation Sans, Bitstream Vera Sans, sans-serif\nfindfont: Generic family 'sans-serif' not found because none of the following families were found: Arial, Liberation Sans, Bitstream Vera Sans, sans-serif\nfindfont: Generic family 'sans-serif' not found because none of the following families were found: Arial, Liberation Sans, Bitstream Vera Sans, sans-serif\nfindfont: Generic family 'sans-serif' not found because none of the following families were found: Arial, Liberation Sans, Bitstream Vera Sans, sans-serif\nfindfont: Generic family 'sans-serif' not found because none of the following families were found: Arial, Liberation Sans, Bitstream Vera Sans, sans-serif\nfindfont: Generic family 'sans-serif' not found because none of the following families were found: Arial, Liberation Sans, Bitstream Vera Sans, sans-serif\nfindfont: Generic family 'sans-serif' not found because none of the following families were found: Arial, Liberation Sans, Bitstream Vera Sans, sans-serif\nfindfont: Generic family 'sans-serif' not found because none of the following families were found: Arial, Liberation Sans, Bitstream Vera Sans, sans-serif\nfindfont: Generic family 'sans-serif' not found because none of the following families were found: Arial, Liberation Sans, Bitstream Vera Sans, sans-serif\nfindfont: Generic family 'sans-serif' not found because none of the following families were found: Arial, Liberation Sans, Bitstream Vera Sans, sans-serif\nfindfont: Generic family 'sans-serif' not found because none of the following families were found: Arial, Liberation Sans, Bitstream Vera Sans, sans-serif\nfindfont: Generic family 'sans-serif' not found because none of the following families were found: Arial, Liberation Sans, Bitstream Vera Sans, sans-serif\nfindfont: Generic family 'sans-serif' not found because none of the following families were found: Arial, Liberation Sans, Bitstream Vera Sans, sans-serif\nfindfont: Generic family 'sans-serif' not found because none of the following families were found: Arial, Liberation Sans, Bitstream Vera Sans, sans-serif\nfindfont: Generic family 'sans-serif' not found because none of the following families were found: Arial, Liberation Sans, Bitstream Vera Sans, sans-serif\nfindfont: Generic family 'sans-serif' not found because none of the following families were found: Arial, Liberation Sans, Bitstream Vera Sans, sans-serif\nfindfont: Generic family 'sans-serif' not found because none of the following families were found: Arial, Liberation Sans, Bitstream Vera Sans, sans-serif\nfindfont: Generic family 'sans-serif' not found because none of the following families were found: Arial, Liberation Sans, Bitstream Vera Sans, sans-serif\nfindfont: Generic family 'sans-serif' not found because none of the following families were found: Arial, Liberation Sans, Bitstream Vera Sans, sans-serif\nfindfont: Generic family 'sans-serif' not found because none of the following families were found: Arial, Liberation Sans, Bitstream Vera Sans, sans-serif\nfindfont: Generic family 'sans-serif' not found because none of the following families were found: Arial, Liberation Sans, Bitstream Vera Sans, sans-serif\nfindfont: Generic family 'sans-serif' not found because none of the following families were found: Arial, Liberation Sans, Bitstream Vera Sans, sans-serif\nfindfont: Generic family 'sans-serif' not found because none of the following families were found: Arial, Liberation Sans, Bitstream Vera Sans, sans-serif\nfindfont: Generic family 'sans-serif' not found because none of the following families were found: Arial, Liberation Sans, Bitstream Vera Sans, sans-serif\nfindfont: Generic family 'sans-serif' not found because none of the following families were found: Arial, Liberation Sans, Bitstream Vera Sans, sans-serif\nfindfont: Generic family 'sans-serif' not found because none of the following families were found: Arial, Liberation Sans, Bitstream Vera Sans, sans-serif\nfindfont: Generic family 'sans-serif' not found because none of the following families were found: Arial, Liberation Sans, Bitstream Vera Sans, sans-serif\nfindfont: Generic family 'sans-serif' not found because none of the following families were found: Arial, Liberation Sans, Bitstream Vera Sans, sans-serif\nfindfont: Generic family 'sans-serif' not found because none of the following families were found: Arial, Liberation Sans, Bitstream Vera Sans, sans-serif\nfindfont: Generic family 'sans-serif' not found because none of the following families were found: Arial, Liberation Sans, Bitstream Vera Sans, sans-serif\nfindfont: Generic family 'sans-serif' not found because none of the following families were found: Arial, Liberation Sans, Bitstream Vera Sans, sans-serif\nfindfont: Generic family 'sans-serif' not found because none of the following families were found: Arial, Liberation Sans, Bitstream Vera Sans, sans-serif\nfindfont: Generic family 'sans-serif' not found because none of the following families were found: Arial, Liberation Sans, Bitstream Vera Sans, sans-serif\nfindfont: Generic family 'sans-serif' not found because none of the following families were found: Arial, Liberation Sans, Bitstream Vera Sans, sans-serif\nfindfont: Generic family 'sans-serif' not found because none of the following families were found: Arial, Liberation Sans, Bitstream Vera Sans, sans-serif\nfindfont: Generic family 'sans-serif' not found because none of the following families were found: Arial, Liberation Sans, Bitstream Vera Sans, sans-serif\nfindfont: Generic family 'sans-serif' not found because none of the following families were found: Arial, Liberation Sans, Bitstream Vera Sans, sans-serif\nfindfont: Generic family 'sans-serif' not found because none of the following families were found: Arial, Liberation Sans, Bitstream Vera Sans, sans-serif\nfindfont: Generic family 'sans-serif' not found because none of the following families were found: Arial, Liberation Sans, Bitstream Vera Sans, sans-serif\nfindfont: Generic family 'sans-serif' not found because none of the following families were found: Arial, Liberation Sans, Bitstream Vera Sans, sans-serif\nfindfont: Generic family 'sans-serif' not found because none of the following families were found: Arial, Liberation Sans, Bitstream Vera Sans, sans-serif\nfindfont: Generic family 'sans-serif' not found because none of the following families were found: Arial, Liberation Sans, Bitstream Vera Sans, sans-serif\nfindfont: Generic family 'sans-serif' not found because none of the following families were found: Arial, Liberation Sans, Bitstream Vera Sans, sans-serif\nfindfont: Generic family 'sans-serif' not found because none of the following families were found: Arial, Liberation Sans, Bitstream Vera Sans, sans-serif\nfindfont: Generic family 'sans-serif' not found because none of the following families were found: Arial, Liberation Sans, Bitstream Vera Sans, sans-serif\nfindfont: Generic family 'sans-serif' not found because none of the following families were found: Arial, Liberation Sans, Bitstream Vera Sans, sans-serif\nfindfont: Generic family 'sans-serif' not found because none of the following families were found: Arial, Liberation Sans, Bitstream Vera Sans, sans-serif\nfindfont: Generic family 'sans-serif' not found because none of the following families were found: Arial, Liberation Sans, Bitstream Vera Sans, sans-serif\nfindfont: Generic family 'sans-serif' not found because none of the following families were found: Arial, Liberation Sans, Bitstream Vera Sans, sans-serif\nfindfont: Generic family 'sans-serif' not found because none of the following families were found: Arial, Liberation Sans, Bitstream Vera Sans, sans-serif\nfindfont: Generic family 'sans-serif' not found because none of the following families were found: Arial, Liberation Sans, Bitstream Vera Sans, sans-serif\nfindfont: Generic family 'sans-serif' not found because none of the following families were found: Arial, Liberation Sans, Bitstream Vera Sans, sans-serif\nfindfont: Generic family 'sans-serif' not found because none of the following families were found: Arial, Liberation Sans, Bitstream Vera Sans, sans-serif\nfindfont: Generic family 'sans-serif' not found because none of the following families were found: Arial, Liberation Sans, Bitstream Vera Sans, sans-serif\nfindfont: Generic family 'sans-serif' not found because none of the following families were found: Arial, Liberation Sans, Bitstream Vera Sans, sans-serif\nfindfont: Generic family 'sans-serif' not found because none of the following families were found: Arial, Liberation Sans, Bitstream Vera Sans, sans-serif\nfindfont: Generic family 'sans-serif' not found because none of the following families were found: Arial, Liberation Sans, Bitstream Vera Sans, sans-serif\nfindfont: Generic family 'sans-serif' not found because none of the following families were found: Arial, Liberation Sans, Bitstream Vera Sans, sans-serif\nfindfont: Generic family 'sans-serif' not found because none of the following families were found: Arial, Liberation Sans, Bitstream Vera Sans, sans-serif\nfindfont: Generic family 'sans-serif' not found because none of the following families were found: Arial, Liberation Sans, Bitstream Vera Sans, sans-serif\nfindfont: Generic family 'sans-serif' not found because none of the following families were found: Arial, Liberation Sans, Bitstream Vera Sans, sans-serif\nfindfont: Generic family 'sans-serif' not found because none of the following families were found: Arial, Liberation Sans, Bitstream Vera Sans, sans-serif\nfindfont: Generic family 'sans-serif' not found because none of the following families were found: Arial, Liberation Sans, Bitstream Vera Sans, sans-serif\nfindfont: Generic family 'sans-serif' not found because none of the following families were found: Arial, Liberation Sans, Bitstream Vera Sans, sans-serif\nfindfont: Generic family 'sans-serif' not found because none of the following families were found: Arial, Liberation Sans, Bitstream Vera Sans, sans-serif\nfindfont: Generic family 'sans-serif' not found because none of the following families were found: Arial, Liberation Sans, Bitstream Vera Sans, sans-serif\nfindfont: Generic family 'sans-serif' not found because none of the following families were found: Arial, Liberation Sans, Bitstream Vera Sans, sans-serif\nfindfont: Generic family 'sans-serif' not found because none of the following families were found: Arial, Liberation Sans, Bitstream Vera Sans, sans-serif\nfindfont: Generic family 'sans-serif' not found because none of the following families were found: Arial, Liberation Sans, Bitstream Vera Sans, sans-serif\n"
        },
        {
          "output_type": "display_data",
          "data": {
            "text/plain": "<Figure size 1000x600 with 2 Axes>",
            "image/png": "[encoded data removed]"
          },
          "metadata": {}
        }
      ],
      "execution_count": null,
      "metadata": {
        "jupyter": {
          "source_hidden": false,
          "outputs_hidden": false
        },
        "nteract": {
          "transient": {
            "deleting": false
          }
        },
        "gather": {
          "logged": 1694468002088
        },
        "id": "hZKYpLBbWRMo",
        "outputId": "586023cb-1bc6-4540-8ae0-e51b9332c663"
      }
    },
    {
      "cell_type": "code",
      "source": [
        "import plotly.express as px\n",
        "\n",
        "# Specify a font family available on your system\n",
        "font_family = 'Arial'  # You can change this to a different font\n",
        "\n",
        "# Create a figure with the specified font family\n",
        "fig = px.line(predictions, x=predictions.index, y=['RPM', 'Predicted RPM', 'Miles'], title='GR: RPM vs Predicted RPM vs Miles')\n",
        "\n",
        "# Add a secondary y-axis for 'Miles'\n",
        "fig.add_trace(px.line(predictions, x=predictions.index, y='Miles').data[0])\n",
        "\n",
        "# Update y-axis labels\n",
        "fig.update_yaxes(title_text=\"RPM and Predicted RPM\", secondary_y=False)\n",
        "fig.update_yaxes(title_text=\"Miles\", secondary_y=True)\n",
        "\n",
        "# Specify the font family for the plot\n",
        "fig.update_layout(font=dict(family=font_family))\n",
        "\n",
        "# Show the plot\n",
        "fig.show()\n"
      ],
      "outputs": [
        {
          "output_type": "display_data",
          "data": {
            "application/vnd.plotly.v1+json": {
              "data": [
                {
                  "hovertemplate": "variable=RPM<br>index=%{x}<br>value=%{y}<extra></extra>",
                  "legendgroup": "RPM",
                  "line": {
                    "color": "#636efa",
                    "dash": "solid"
                  },
                  "marker": {
                    "symbol": "circle"
                  },
                  "mode": "lines",
                  "name": "RPM",
                  "orientation": "v",
                  "showlegend": true,
                  "x": [
                    0,
                    1,
                    2,
                    3,
                    4,
                    5,
                    6,
                    7,
                    8,
                    9,
                    10,
                    11,
                    12,
                    13,
                    14,
                    15,
                    16,
                    17,
                    18,
                    19,
                    20,
                    21,
                    22,
                    23,
                    24,
                    25,
                    26,
                    27,
                    28,
                    29,
                    30,
                    31,
                    32,
                    33,
                    34,
                    35,
                    36,
                    37,
                    38,
                    39,
                    40,
                    41,
                    42,
                    43,
                    44,
                    45,
                    46,
                    47,
                    48,
                    49,
                    50,
                    51,
                    52,
                    53,
                    54,
                    55,
                    56,
                    57,
                    58,
                    59,
                    60,
                    61,
                    62,
                    63,
                    64,
                    65,
                    66,
                    67,
                    68,
                    69,
                    70,
                    71,
                    72,
                    73,
                    74,
                    75,
                    76,
                    77,
                    78,
                    79,
                    80,
                    81,
                    82,
                    83,
                    84,
                    85,
                    86,
                    87,
                    88,
                    89,
                    90,
                    91,
                    92,
                    93,
                    94,
                    95,
                    96,
                    97,
                    98,
                    99,
                    100,
                    101,
                    102,
                    103,
                    104,
                    105,
                    106,
                    107,
                    108,
                    109,
                    110,
                    111,
                    112,
                    113,
                    114,
                    115,
                    116,
                    117,
                    118,
                    119
                  ],
                  "xaxis": "x",
                  "y": [
                    62.5,
                    62.5,
                    2.2899999618530273,
                    3.369999885559082,
                    4.210000038146973,
                    2.6600000858306885,
                    3.4200000762939453,
                    2.5199999809265137,
                    10.579999923706055,
                    6.900000095367432,
                    3.009999990463257,
                    4.090000152587891,
                    2.2899999618530273,
                    2.700000047683716,
                    20.829999923706055,
                    3.059999942779541,
                    2.049999952316284,
                    6.900000095367432,
                    2.869999885559082,
                    3.6500000953674316,
                    3.4000000953674316,
                    2.109999895095825,
                    3.609999895095825,
                    2.109999895095825,
                    3.0799999237060547,
                    4.210000038146973,
                    6.900000095367432,
                    2.5899999141693115,
                    2.5899999141693115,
                    20.829999923706055,
                    3.930000066757202,
                    2.109999895095825,
                    4.210000038146973,
                    2.8299999237060547,
                    2.6500000953674316,
                    4.210000038146973,
                    20.829999923706055,
                    3.930000066757202,
                    3.930000066757202,
                    7.349999904632568,
                    20.829999923706055,
                    2.119999885559082,
                    1.7999999523162842,
                    2.640000104904175,
                    4.210000038146973,
                    2.950000047683716,
                    2.299999952316284,
                    2.2899999618530273,
                    2.8299999237060547,
                    4.210000038146973,
                    2.2899999618530273,
                    2.109999895095825,
                    6.670000076293945,
                    2.490000009536743,
                    10.1899995803833,
                    5.130000114440918,
                    2.5199999809265137,
                    2.430000066757202,
                    3.6500000953674316,
                    43.47999954223633,
                    2.4100000858306885,
                    3.6500000953674316,
                    1.2999999523162842,
                    2.109999895095825,
                    2.690000057220459,
                    43.47999954223633,
                    2.1500000953674316,
                    9.380000114440918,
                    1.2999999523162842,
                    3.7300000190734863,
                    1.809999942779541,
                    20.829999923706055,
                    1.9800000190734863,
                    3.5,
                    1.2999999523162842,
                    2.240000009536743,
                    3.259999990463257,
                    6.900000095367432,
                    2.940000057220459,
                    20.829999923706055,
                    6.900000095367432,
                    2.0899999141693115,
                    1.5800000429153442,
                    20.829999923706055,
                    43.47999954223633,
                    20.829999923706055,
                    2.309999942779541,
                    6.900000095367432,
                    2.740000009536743,
                    2.940000057220459,
                    5.130000114440918,
                    1.659999966621399,
                    1.6799999475479126,
                    2.940000057220459,
                    2.1600000858306885,
                    3.059999942779541,
                    2.3399999141693115,
                    2.3499999046325684,
                    2.819999933242798,
                    1.9800000190734863,
                    2.490000009536743,
                    2.0199999809265137,
                    6.900000095367432,
                    2.359999895095825,
                    1.7400000095367432,
                    1.559999942779541,
                    1.7899999618530273,
                    2.890000104904175,
                    2.2799999713897705,
                    1.5700000524520874,
                    3.7200000286102295,
                    1.9299999475479126,
                    2.619999885559082,
                    1.899999976158142,
                    2.6600000858306885,
                    3.5399999618530273,
                    2.0899999141693115,
                    2.7200000286102295,
                    2.7200000286102295,
                    2.9700000286102295
                  ],
                  "yaxis": "y",
                  "type": "scatter"
                },
                {
                  "hovertemplate": "variable=Predicted RPM<br>index=%{x}<br>value=%{y}<extra></extra>",
                  "legendgroup": "Predicted RPM",
                  "line": {
                    "color": "#EF553B",
                    "dash": "solid"
                  },
                  "marker": {
                    "symbol": "circle"
                  },
                  "mode": "lines",
                  "name": "Predicted RPM",
                  "orientation": "v",
                  "showlegend": true,
                  "x": [
                    0,
                    1,
                    2,
                    3,
                    4,
                    5,
                    6,
                    7,
                    8,
                    9,
                    10,
                    11,
                    12,
                    13,
                    14,
                    15,
                    16,
                    17,
                    18,
                    19,
                    20,
                    21,
                    22,
                    23,
                    24,
                    25,
                    26,
                    27,
                    28,
                    29,
                    30,
                    31,
                    32,
                    33,
                    34,
                    35,
                    36,
                    37,
                    38,
                    39,
                    40,
                    41,
                    42,
                    43,
                    44,
                    45,
                    46,
                    47,
                    48,
                    49,
                    50,
                    51,
                    52,
                    53,
                    54,
                    55,
                    56,
                    57,
                    58,
                    59,
                    60,
                    61,
                    62,
                    63,
                    64,
                    65,
                    66,
                    67,
                    68,
                    69,
                    70,
                    71,
                    72,
                    73,
                    74,
                    75,
                    76,
                    77,
                    78,
                    79,
                    80,
                    81,
                    82,
                    83,
                    84,
                    85,
                    86,
                    87,
                    88,
                    89,
                    90,
                    91,
                    92,
                    93,
                    94,
                    95,
                    96,
                    97,
                    98,
                    99,
                    100,
                    101,
                    102,
                    103,
                    104,
                    105,
                    106,
                    107,
                    108,
                    109,
                    110,
                    111,
                    112,
                    113,
                    114,
                    115,
                    116,
                    117,
                    118,
                    119
                  ],
                  "xaxis": "x",
                  "y": [
                    78.42849940299988,
                    78.42849940299988,
                    2.330300009250641,
                    4.5025000166893,
                    4.50170001745224,
                    2.2931999933719633,
                    3.3836000394821166,
                    2.5122000229358674,
                    10.518399963378906,
                    6.908000101894141,
                    3.935700013637543,
                    3.567300033569336,
                    2.330300009250641,
                    2.6637000226974488,
                    20.798199920654298,
                    2.6818999814987183,
                    2.0859999799728395,
                    6.923200106471777,
                    2.7414999556541444,
                    4.478100020885467,
                    3.166699991226196,
                    2.0991999781131745,
                    4.115299999713898,
                    2.2059000122547148,
                    3.178599989414215,
                    4.474100019931793,
                    6.912500099986792,
                    2.520099995136261,
                    2.67889995098114,
                    20.798199920654298,
                    4.490800020694732,
                    2.355299994945526,
                    4.474100019931793,
                    2.7193999695777893,
                    2.3580000054836274,
                    4.491800019741058,
                    20.798199920654298,
                    4.490800020694732,
                    4.490800020694732,
                    4.681499993801117,
                    20.798199920654298,
                    2.2997999942302703,
                    2.2458999872207643,
                    2.6788999795913697,
                    4.474100019931793,
                    4.450400011539459,
                    2.4757999956607817,
                    2.2708999848365785,
                    2.7193999695777893,
                    4.491800019741058,
                    2.1200999963283538,
                    2.0944999825954436,
                    6.229800061881543,
                    2.702399978637695,
                    10.370199861526489,
                    5.438599974960089,
                    2.5122000229358674,
                    2.504600021839142,
                    3.4938000321388243,
                    40.2468995475769,
                    2.4090000212192537,
                    3.4938000321388243,
                    1.6445999979972838,
                    2.253899998664856,
                    2.5765000200271606,
                    38.20469959259033,
                    2.087000023126602,
                    11.02050000190735,
                    1.6445999979972838,
                    3.662100033760071,
                    1.8386999905109405,
                    20.798199920654298,
                    2.628900066614151,
                    2.4016999900341034,
                    1.6445999979972838,
                    2.3408999955654144,
                    2.985600023269653,
                    6.912500099986792,
                    2.9302000045776366,
                    20.798199920654298,
                    6.912500099986792,
                    2.098099954128265,
                    1.6815999960899353,
                    20.798199920654298,
                    40.34729953765869,
                    20.798199920654298,
                    2.3733000028133393,
                    6.912500099986792,
                    2.7278000116348267,
                    2.9302000045776366,
                    5.6052999804914,
                    1.7559000110626222,
                    1.826500004529953,
                    2.659999988079071,
                    2.1462000036239623,
                    2.5680000030994417,
                    2.2982999908924104,
                    2.4992999982833863,
                    3.3802999591827394,
                    2.0213000106811525,
                    2.471799992322922,
                    2.088699984550476,
                    6.912500099986792,
                    2.3657999742031097,
                    1.7159999883174897,
                    1.8071999895572661,
                    2.3492000377178193,
                    2.8309000265598296,
                    2.2973999786376953,
                    1.5949000334739685,
                    3.9707000184059145,
                    2.0852999913692476,
                    2.6120000088214876,
                    1.8721000027656556,
                    2.2077000093460084,
                    3.955600007772446,
                    2.098099954128265,
                    3.014600019454956,
                    2.829100012779236,
                    2.476099979877472
                  ],
                  "yaxis": "y",
                  "type": "scatter"
                },
                {
                  "hovertemplate": "variable=Miles<br>index=%{x}<br>value=%{y}<extra></extra>",
                  "legendgroup": "Miles",
                  "line": {
                    "color": "#00cc96",
                    "dash": "solid"
                  },
                  "marker": {
                    "symbol": "circle"
                  },
                  "mode": "lines",
                  "name": "Miles",
                  "orientation": "v",
                  "showlegend": true,
                  "x": [
                    0,
                    1,
                    2,
                    3,
                    4,
                    5,
                    6,
                    7,
                    8,
                    9,
                    10,
                    11,
                    12,
                    13,
                    14,
                    15,
                    16,
                    17,
                    18,
                    19,
                    20,
                    21,
                    22,
                    23,
                    24,
                    25,
                    26,
                    27,
                    28,
                    29,
                    30,
                    31,
                    32,
                    33,
                    34,
                    35,
                    36,
                    37,
                    38,
                    39,
                    40,
                    41,
                    42,
                    43,
                    44,
                    45,
                    46,
                    47,
                    48,
                    49,
                    50,
                    51,
                    52,
                    53,
                    54,
                    55,
                    56,
                    57,
                    58,
                    59,
                    60,
                    61,
                    62,
                    63,
                    64,
                    65,
                    66,
                    67,
                    68,
                    69,
                    70,
                    71,
                    72,
                    73,
                    74,
                    75,
                    76,
                    77,
                    78,
                    79,
                    80,
                    81,
                    82,
                    83,
                    84,
                    85,
                    86,
                    87,
                    88,
                    89,
                    90,
                    91,
                    92,
                    93,
                    94,
                    95,
                    96,
                    97,
                    98,
                    99,
                    100,
                    101,
                    102,
                    103,
                    104,
                    105,
                    106,
                    107,
                    108,
                    109,
                    110,
                    111,
                    112,
                    113,
                    114,
                    115,
                    116,
                    117,
                    118,
                    119
                  ],
                  "xaxis": "x",
                  "y": [
                    6,
                    6,
                    757,
                    178,
                    178,
                    602,
                    234,
                    416,
                    26,
                    58,
                    183,
                    232,
                    757,
                    463,
                    12,
                    425,
                    828,
                    58,
                    557,
                    178,
                    294,
                    828,
                    146,
                    442,
                    219,
                    178,
                    58,
                    425,
                    251,
                    12,
                    178,
                    758,
                    178,
                    557,
                    471,
                    178,
                    12,
                    178,
                    178,
                    136,
                    12,
                    425,
                    471,
                    341,
                    178,
                    178,
                    228,
                    567,
                    557,
                    178,
                    1090,
                    1090,
                    60,
                    341,
                    27,
                    78,
                    416,
                    989,
                    319,
                    23,
                    249,
                    319,
                    1308,
                    380,
                    856,
                    23,
                    559,
                    32,
                    1308,
                    267,
                    775,
                    12,
                    1461,
                    758,
                    1308,
                    425,
                    429,
                    58,
                    323,
                    12,
                    58,
                    861,
                    888,
                    12,
                    23,
                    12,
                    249,
                    58,
                    547,
                    323,
                    78,
                    965,
                    773,
                    425,
                    832,
                    556,
                    801,
                    425,
                    195,
                    859,
                    321,
                    1090,
                    58,
                    720,
                    1261,
                    899,
                    1005,
                    380,
                    636,
                    382,
                    148,
                    1090,
                    988,
                    949,
                    902,
                    134,
                    861,
                    552,
                    552,
                    976
                  ],
                  "yaxis": "y",
                  "type": "scatter"
                },
                {
                  "hovertemplate": "index=%{x}<br>Miles=%{y}<extra></extra>",
                  "legendgroup": "",
                  "line": {
                    "color": "#636efa",
                    "dash": "solid"
                  },
                  "marker": {
                    "symbol": "circle"
                  },
                  "mode": "lines",
                  "name": "",
                  "orientation": "v",
                  "showlegend": false,
                  "x": [
                    0,
                    1,
                    2,
                    3,
                    4,
                    5,
                    6,
                    7,
                    8,
                    9,
                    10,
                    11,
                    12,
                    13,
                    14,
                    15,
                    16,
                    17,
                    18,
                    19,
                    20,
                    21,
                    22,
                    23,
                    24,
                    25,
                    26,
                    27,
                    28,
                    29,
                    30,
                    31,
                    32,
                    33,
                    34,
                    35,
                    36,
                    37,
                    38,
                    39,
                    40,
                    41,
                    42,
                    43,
                    44,
                    45,
                    46,
                    47,
                    48,
                    49,
                    50,
                    51,
                    52,
                    53,
                    54,
                    55,
                    56,
                    57,
                    58,
                    59,
                    60,
                    61,
                    62,
                    63,
                    64,
                    65,
                    66,
                    67,
                    68,
                    69,
                    70,
                    71,
                    72,
                    73,
                    74,
                    75,
                    76,
                    77,
                    78,
                    79,
                    80,
                    81,
                    82,
                    83,
                    84,
                    85,
                    86,
                    87,
                    88,
                    89,
                    90,
                    91,
                    92,
                    93,
                    94,
                    95,
                    96,
                    97,
                    98,
                    99,
                    100,
                    101,
                    102,
                    103,
                    104,
                    105,
                    106,
                    107,
                    108,
                    109,
                    110,
                    111,
                    112,
                    113,
                    114,
                    115,
                    116,
                    117,
                    118,
                    119
                  ],
                  "xaxis": "x",
                  "y": [
                    6,
                    6,
                    757,
                    178,
                    178,
                    602,
                    234,
                    416,
                    26,
                    58,
                    183,
                    232,
                    757,
                    463,
                    12,
                    425,
                    828,
                    58,
                    557,
                    178,
                    294,
                    828,
                    146,
                    442,
                    219,
                    178,
                    58,
                    425,
                    251,
                    12,
                    178,
                    758,
                    178,
                    557,
                    471,
                    178,
                    12,
                    178,
                    178,
                    136,
                    12,
                    425,
                    471,
                    341,
                    178,
                    178,
                    228,
                    567,
                    557,
                    178,
                    1090,
                    1090,
                    60,
                    341,
                    27,
                    78,
                    416,
                    989,
                    319,
                    23,
                    249,
                    319,
                    1308,
                    380,
                    856,
                    23,
                    559,
                    32,
                    1308,
                    267,
                    775,
                    12,
                    1461,
                    758,
                    1308,
                    425,
                    429,
                    58,
                    323,
                    12,
                    58,
                    861,
                    888,
                    12,
                    23,
                    12,
                    249,
                    58,
                    547,
                    323,
                    78,
                    965,
                    773,
                    425,
                    832,
                    556,
                    801,
                    425,
                    195,
                    859,
                    321,
                    1090,
                    58,
                    720,
                    1261,
                    899,
                    1005,
                    380,
                    636,
                    382,
                    148,
                    1090,
                    988,
                    949,
                    902,
                    134,
                    861,
                    552,
                    552,
                    976
                  ],
                  "yaxis": "y",
                  "type": "scatter"
                }
              ],
              "layout": {
                "template": {
                  "data": {
                    "histogram2dcontour": [
                      {
                        "type": "histogram2dcontour",
                        "colorbar": {
                          "outlinewidth": 0,
                          "ticks": ""
                        },
                        "colorscale": [
                          [
                            0,
                            "#0d0887"
                          ],
                          [
                            0.1111111111111111,
                            "#46039f"
                          ],
                          [
                            0.2222222222222222,
                            "#7201a8"
                          ],
                          [
                            0.3333333333333333,
                            "#9c179e"
                          ],
                          [
                            0.4444444444444444,
                            "#bd3786"
                          ],
                          [
                            0.5555555555555556,
                            "#d8576b"
                          ],
                          [
                            0.6666666666666666,
                            "#ed7953"
                          ],
                          [
                            0.7777777777777778,
                            "#fb9f3a"
                          ],
                          [
                            0.8888888888888888,
                            "#fdca26"
                          ],
                          [
                            1,
                            "#f0f921"
                          ]
                        ]
                      }
                    ],
                    "choropleth": [
                      {
                        "type": "choropleth",
                        "colorbar": {
                          "outlinewidth": 0,
                          "ticks": ""
                        }
                      }
                    ],
                    "histogram2d": [
                      {
                        "type": "histogram2d",
                        "colorbar": {
                          "outlinewidth": 0,
                          "ticks": ""
                        },
                        "colorscale": [
                          [
                            0,
                            "#0d0887"
                          ],
                          [
                            0.1111111111111111,
                            "#46039f"
                          ],
                          [
                            0.2222222222222222,
                            "#7201a8"
                          ],
                          [
                            0.3333333333333333,
                            "#9c179e"
                          ],
                          [
                            0.4444444444444444,
                            "#bd3786"
                          ],
                          [
                            0.5555555555555556,
                            "#d8576b"
                          ],
                          [
                            0.6666666666666666,
                            "#ed7953"
                          ],
                          [
                            0.7777777777777778,
                            "#fb9f3a"
                          ],
                          [
                            0.8888888888888888,
                            "#fdca26"
                          ],
                          [
                            1,
                            "#f0f921"
                          ]
                        ]
                      }
                    ],
                    "heatmap": [
                      {
                        "type": "heatmap",
                        "colorbar": {
                          "outlinewidth": 0,
                          "ticks": ""
                        },
                        "colorscale": [
                          [
                            0,
                            "#0d0887"
                          ],
                          [
                            0.1111111111111111,
                            "#46039f"
                          ],
                          [
                            0.2222222222222222,
                            "#7201a8"
                          ],
                          [
                            0.3333333333333333,
                            "#9c179e"
                          ],
                          [
                            0.4444444444444444,
                            "#bd3786"
                          ],
                          [
                            0.5555555555555556,
                            "#d8576b"
                          ],
                          [
                            0.6666666666666666,
                            "#ed7953"
                          ],
                          [
                            0.7777777777777778,
                            "#fb9f3a"
                          ],
                          [
                            0.8888888888888888,
                            "#fdca26"
                          ],
                          [
                            1,
                            "#f0f921"
                          ]
                        ]
                      }
                    ],
                    "heatmapgl": [
                      {
                        "type": "heatmapgl",
                        "colorbar": {
                          "outlinewidth": 0,
                          "ticks": ""
                        },
                        "colorscale": [
                          [
                            0,
                            "#0d0887"
                          ],
                          [
                            0.1111111111111111,
                            "#46039f"
                          ],
                          [
                            0.2222222222222222,
                            "#7201a8"
                          ],
                          [
                            0.3333333333333333,
                            "#9c179e"
                          ],
                          [
                            0.4444444444444444,
                            "#bd3786"
                          ],
                          [
                            0.5555555555555556,
                            "#d8576b"
                          ],
                          [
                            0.6666666666666666,
                            "#ed7953"
                          ],
                          [
                            0.7777777777777778,
                            "#fb9f3a"
                          ],
                          [
                            0.8888888888888888,
                            "#fdca26"
                          ],
                          [
                            1,
                            "#f0f921"
                          ]
                        ]
                      }
                    ],
                    "contourcarpet": [
                      {
                        "type": "contourcarpet",
                        "colorbar": {
                          "outlinewidth": 0,
                          "ticks": ""
                        }
                      }
                    ],
                    "contour": [
                      {
                        "type": "contour",
                        "colorbar": {
                          "outlinewidth": 0,
                          "ticks": ""
                        },
                        "colorscale": [
                          [
                            0,
                            "#0d0887"
                          ],
                          [
                            0.1111111111111111,
                            "#46039f"
                          ],
                          [
                            0.2222222222222222,
                            "#7201a8"
                          ],
                          [
                            0.3333333333333333,
                            "#9c179e"
                          ],
                          [
                            0.4444444444444444,
                            "#bd3786"
                          ],
                          [
                            0.5555555555555556,
                            "#d8576b"
                          ],
                          [
                            0.6666666666666666,
                            "#ed7953"
                          ],
                          [
                            0.7777777777777778,
                            "#fb9f3a"
                          ],
                          [
                            0.8888888888888888,
                            "#fdca26"
                          ],
                          [
                            1,
                            "#f0f921"
                          ]
                        ]
                      }
                    ],
                    "surface": [
                      {
                        "type": "surface",
                        "colorbar": {
                          "outlinewidth": 0,
                          "ticks": ""
                        },
                        "colorscale": [
                          [
                            0,
                            "#0d0887"
                          ],
                          [
                            0.1111111111111111,
                            "#46039f"
                          ],
                          [
                            0.2222222222222222,
                            "#7201a8"
                          ],
                          [
                            0.3333333333333333,
                            "#9c179e"
                          ],
                          [
                            0.4444444444444444,
                            "#bd3786"
                          ],
                          [
                            0.5555555555555556,
                            "#d8576b"
                          ],
                          [
                            0.6666666666666666,
                            "#ed7953"
                          ],
                          [
                            0.7777777777777778,
                            "#fb9f3a"
                          ],
                          [
                            0.8888888888888888,
                            "#fdca26"
                          ],
                          [
                            1,
                            "#f0f921"
                          ]
                        ]
                      }
                    ],
                    "mesh3d": [
                      {
                        "type": "mesh3d",
                        "colorbar": {
                          "outlinewidth": 0,
                          "ticks": ""
                        }
                      }
                    ],
                    "scatter": [
                      {
                        "fillpattern": {
                          "fillmode": "overlay",
                          "size": 10,
                          "solidity": 0.2
                        },
                        "type": "scatter"
                      }
                    ],
                    "parcoords": [
                      {
                        "type": "parcoords",
                        "line": {
                          "colorbar": {
                            "outlinewidth": 0,
                            "ticks": ""
                          }
                        }
                      }
                    ],
                    "scatterpolargl": [
                      {
                        "type": "scatterpolargl",
                        "marker": {
                          "colorbar": {
                            "outlinewidth": 0,
                            "ticks": ""
                          }
                        }
                      }
                    ],
                    "bar": [
                      {
                        "error_x": {
                          "color": "#2a3f5f"
                        },
                        "error_y": {
                          "color": "#2a3f5f"
                        },
                        "marker": {
                          "line": {
                            "color": "#E5ECF6",
                            "width": 0.5
                          },
                          "pattern": {
                            "fillmode": "overlay",
                            "size": 10,
                            "solidity": 0.2
                          }
                        },
                        "type": "bar"
                      }
                    ],
                    "scattergeo": [
                      {
                        "type": "scattergeo",
                        "marker": {
                          "colorbar": {
                            "outlinewidth": 0,
                            "ticks": ""
                          }
                        }
                      }
                    ],
                    "scatterpolar": [
                      {
                        "type": "scatterpolar",
                        "marker": {
                          "colorbar": {
                            "outlinewidth": 0,
                            "ticks": ""
                          }
                        }
                      }
                    ],
                    "histogram": [
                      {
                        "marker": {
                          "pattern": {
                            "fillmode": "overlay",
                            "size": 10,
                            "solidity": 0.2
                          }
                        },
                        "type": "histogram"
                      }
                    ],
                    "scattergl": [
                      {
                        "type": "scattergl",
                        "marker": {
                          "colorbar": {
                            "outlinewidth": 0,
                            "ticks": ""
                          }
                        }
                      }
                    ],
                    "scatter3d": [
                      {
                        "type": "scatter3d",
                        "line": {
                          "colorbar": {
                            "outlinewidth": 0,
                            "ticks": ""
                          }
                        },
                        "marker": {
                          "colorbar": {
                            "outlinewidth": 0,
                            "ticks": ""
                          }
                        }
                      }
                    ],
                    "scattermapbox": [
                      {
                        "type": "scattermapbox",
                        "marker": {
                          "colorbar": {
                            "outlinewidth": 0,
                            "ticks": ""
                          }
                        }
                      }
                    ],
                    "scatterternary": [
                      {
                        "type": "scatterternary",
                        "marker": {
                          "colorbar": {
                            "outlinewidth": 0,
                            "ticks": ""
                          }
                        }
                      }
                    ],
                    "scattercarpet": [
                      {
                        "type": "scattercarpet",
                        "marker": {
                          "colorbar": {
                            "outlinewidth": 0,
                            "ticks": ""
                          }
                        }
                      }
                    ],
                    "carpet": [
                      {
                        "aaxis": {
                          "endlinecolor": "#2a3f5f",
                          "gridcolor": "white",
                          "linecolor": "white",
                          "minorgridcolor": "white",
                          "startlinecolor": "#2a3f5f"
                        },
                        "baxis": {
                          "endlinecolor": "#2a3f5f",
                          "gridcolor": "white",
                          "linecolor": "white",
                          "minorgridcolor": "white",
                          "startlinecolor": "#2a3f5f"
                        },
                        "type": "carpet"
                      }
                    ],
                    "table": [
                      {
                        "cells": {
                          "fill": {
                            "color": "#EBF0F8"
                          },
                          "line": {
                            "color": "white"
                          }
                        },
                        "header": {
                          "fill": {
                            "color": "#C8D4E3"
                          },
                          "line": {
                            "color": "white"
                          }
                        },
                        "type": "table"
                      }
                    ],
                    "barpolar": [
                      {
                        "marker": {
                          "line": {
                            "color": "#E5ECF6",
                            "width": 0.5
                          },
                          "pattern": {
                            "fillmode": "overlay",
                            "size": 10,
                            "solidity": 0.2
                          }
                        },
                        "type": "barpolar"
                      }
                    ],
                    "pie": [
                      {
                        "automargin": true,
                        "type": "pie"
                      }
                    ]
                  },
                  "layout": {
                    "autotypenumbers": "strict",
                    "colorway": [
                      "#636efa",
                      "#EF553B",
                      "#00cc96",
                      "#ab63fa",
                      "#FFA15A",
                      "#19d3f3",
                      "#FF6692",
                      "#B6E880",
                      "#FF97FF",
                      "#FECB52"
                    ],
                    "font": {
                      "color": "#2a3f5f"
                    },
                    "hovermode": "closest",
                    "hoverlabel": {
                      "align": "left"
                    },
                    "paper_bgcolor": "white",
                    "plot_bgcolor": "#E5ECF6",
                    "polar": {
                      "bgcolor": "#E5ECF6",
                      "angularaxis": {
                        "gridcolor": "white",
                        "linecolor": "white",
                        "ticks": ""
                      },
                      "radialaxis": {
                        "gridcolor": "white",
                        "linecolor": "white",
                        "ticks": ""
                      }
                    },
                    "ternary": {
                      "bgcolor": "#E5ECF6",
                      "aaxis": {
                        "gridcolor": "white",
                        "linecolor": "white",
                        "ticks": ""
                      },
                      "baxis": {
                        "gridcolor": "white",
                        "linecolor": "white",
                        "ticks": ""
                      },
                      "caxis": {
                        "gridcolor": "white",
                        "linecolor": "white",
                        "ticks": ""
                      }
                    },
                    "coloraxis": {
                      "colorbar": {
                        "outlinewidth": 0,
                        "ticks": ""
                      }
                    },
                    "colorscale": {
                      "sequential": [
                        [
                          0,
                          "#0d0887"
                        ],
                        [
                          0.1111111111111111,
                          "#46039f"
                        ],
                        [
                          0.2222222222222222,
                          "#7201a8"
                        ],
                        [
                          0.3333333333333333,
                          "#9c179e"
                        ],
                        [
                          0.4444444444444444,
                          "#bd3786"
                        ],
                        [
                          0.5555555555555556,
                          "#d8576b"
                        ],
                        [
                          0.6666666666666666,
                          "#ed7953"
                        ],
                        [
                          0.7777777777777778,
                          "#fb9f3a"
                        ],
                        [
                          0.8888888888888888,
                          "#fdca26"
                        ],
                        [
                          1,
                          "#f0f921"
                        ]
                      ],
                      "sequentialminus": [
                        [
                          0,
                          "#0d0887"
                        ],
                        [
                          0.1111111111111111,
                          "#46039f"
                        ],
                        [
                          0.2222222222222222,
                          "#7201a8"
                        ],
                        [
                          0.3333333333333333,
                          "#9c179e"
                        ],
                        [
                          0.4444444444444444,
                          "#bd3786"
                        ],
                        [
                          0.5555555555555556,
                          "#d8576b"
                        ],
                        [
                          0.6666666666666666,
                          "#ed7953"
                        ],
                        [
                          0.7777777777777778,
                          "#fb9f3a"
                        ],
                        [
                          0.8888888888888888,
                          "#fdca26"
                        ],
                        [
                          1,
                          "#f0f921"
                        ]
                      ],
                      "diverging": [
                        [
                          0,
                          "#8e0152"
                        ],
                        [
                          0.1,
                          "#c51b7d"
                        ],
                        [
                          0.2,
                          "#de77ae"
                        ],
                        [
                          0.3,
                          "#f1b6da"
                        ],
                        [
                          0.4,
                          "#fde0ef"
                        ],
                        [
                          0.5,
                          "#f7f7f7"
                        ],
                        [
                          0.6,
                          "#e6f5d0"
                        ],
                        [
                          0.7,
                          "#b8e186"
                        ],
                        [
                          0.8,
                          "#7fbc41"
                        ],
                        [
                          0.9,
                          "#4d9221"
                        ],
                        [
                          1,
                          "#276419"
                        ]
                      ]
                    },
                    "xaxis": {
                      "gridcolor": "white",
                      "linecolor": "white",
                      "ticks": "",
                      "title": {
                        "standoff": 15
                      },
                      "zerolinecolor": "white",
                      "automargin": true,
                      "zerolinewidth": 2
                    },
                    "yaxis": {
                      "gridcolor": "white",
                      "linecolor": "white",
                      "ticks": "",
                      "title": {
                        "standoff": 15
                      },
                      "zerolinecolor": "white",
                      "automargin": true,
                      "zerolinewidth": 2
                    },
                    "scene": {
                      "xaxis": {
                        "backgroundcolor": "#E5ECF6",
                        "gridcolor": "white",
                        "linecolor": "white",
                        "showbackground": true,
                        "ticks": "",
                        "zerolinecolor": "white",
                        "gridwidth": 2
                      },
                      "yaxis": {
                        "backgroundcolor": "#E5ECF6",
                        "gridcolor": "white",
                        "linecolor": "white",
                        "showbackground": true,
                        "ticks": "",
                        "zerolinecolor": "white",
                        "gridwidth": 2
                      },
                      "zaxis": {
                        "backgroundcolor": "#E5ECF6",
                        "gridcolor": "white",
                        "linecolor": "white",
                        "showbackground": true,
                        "ticks": "",
                        "zerolinecolor": "white",
                        "gridwidth": 2
                      }
                    },
                    "shapedefaults": {
                      "line": {
                        "color": "#2a3f5f"
                      }
                    },
                    "annotationdefaults": {
                      "arrowcolor": "#2a3f5f",
                      "arrowhead": 0,
                      "arrowwidth": 1
                    },
                    "geo": {
                      "bgcolor": "white",
                      "landcolor": "#E5ECF6",
                      "subunitcolor": "white",
                      "showland": true,
                      "showlakes": true,
                      "lakecolor": "white"
                    },
                    "title": {
                      "x": 0.05
                    },
                    "mapbox": {
                      "style": "light"
                    }
                  }
                },
                "xaxis": {
                  "anchor": "y",
                  "domain": [
                    0,
                    1
                  ],
                  "title": {
                    "text": "index"
                  }
                },
                "yaxis": {
                  "anchor": "x",
                  "domain": [
                    0,
                    1
                  ],
                  "title": {
                    "text": "RPM and Predicted RPM"
                  }
                },
                "legend": {
                  "title": {
                    "text": "variable"
                  },
                  "tracegroupgap": 0
                },
                "title": {
                  "text": "GR: RPM vs Predicted RPM vs Miles"
                },
                "font": {
                  "family": "Arial"
                }
              },
              "config": {
                "plotlyServerURL": "https://plot.ly"
              }
            },
            "text/html": "<div>                            <div id=\"645da2ad-fbd8-48df-98dd-de242f681156\" class=\"plotly-graph-div\" style=\"height:525px; width:100%;\"></div>            <script type=\"text/javascript\">                require([\"plotly\"], function(Plotly) {                    window.PLOTLYENV=window.PLOTLYENV || {};                                    if (document.getElementById(\"645da2ad-fbd8-48df-98dd-de242f681156\")) {                    Plotly.newPlot(                        \"645da2ad-fbd8-48df-98dd-de242f681156\",                        [{\"hovertemplate\":\"variable=RPM<br>index=%{x}<br>value=%{y}<extra></extra>\",\"legendgroup\":\"RPM\",\"line\":{\"color\":\"#636efa\",\"dash\":\"solid\"},\"marker\":{\"symbol\":\"circle\"},\"mode\":\"lines\",\"name\":\"RPM\",\"orientation\":\"v\",\"showlegend\":true,\"x\":[0,1,2,3,4,5,6,7,8,9,10,11,12,13,14,15,16,17,18,19,20,21,22,23,24,25,26,27,28,29,30,31,32,33,34,35,36,37,38,39,40,41,42,43,44,45,46,47,48,49,50,51,52,53,54,55,56,57,58,59,60,61,62,63,64,65,66,67,68,69,70,71,72,73,74,75,76,77,78,79,80,81,82,83,84,85,86,87,88,89,90,91,92,93,94,95,96,97,98,99,100,101,102,103,104,105,106,107,108,109,110,111,112,113,114,115,116,117,118,119],\"xaxis\":\"x\",\"y\":[62.5,62.5,2.2899999618530273,3.369999885559082,4.210000038146973,2.6600000858306885,3.4200000762939453,2.5199999809265137,10.579999923706055,6.900000095367432,3.009999990463257,4.090000152587891,2.2899999618530273,2.700000047683716,20.829999923706055,3.059999942779541,2.049999952316284,6.900000095367432,2.869999885559082,3.6500000953674316,3.4000000953674316,2.109999895095825,3.609999895095825,2.109999895095825,3.0799999237060547,4.210000038146973,6.900000095367432,2.5899999141693115,2.5899999141693115,20.829999923706055,3.930000066757202,2.109999895095825,4.210000038146973,2.8299999237060547,2.6500000953674316,4.210000038146973,20.829999923706055,3.930000066757202,3.930000066757202,7.349999904632568,20.829999923706055,2.119999885559082,1.7999999523162842,2.640000104904175,4.210000038146973,2.950000047683716,2.299999952316284,2.2899999618530273,2.8299999237060547,4.210000038146973,2.2899999618530273,2.109999895095825,6.670000076293945,2.490000009536743,10.1899995803833,5.130000114440918,2.5199999809265137,2.430000066757202,3.6500000953674316,43.47999954223633,2.4100000858306885,3.6500000953674316,1.2999999523162842,2.109999895095825,2.690000057220459,43.47999954223633,2.1500000953674316,9.380000114440918,1.2999999523162842,3.7300000190734863,1.809999942779541,20.829999923706055,1.9800000190734863,3.5,1.2999999523162842,2.240000009536743,3.259999990463257,6.900000095367432,2.940000057220459,20.829999923706055,6.900000095367432,2.0899999141693115,1.5800000429153442,20.829999923706055,43.47999954223633,20.829999923706055,2.309999942779541,6.900000095367432,2.740000009536743,2.940000057220459,5.130000114440918,1.659999966621399,1.6799999475479126,2.940000057220459,2.1600000858306885,3.059999942779541,2.3399999141693115,2.3499999046325684,2.819999933242798,1.9800000190734863,2.490000009536743,2.0199999809265137,6.900000095367432,2.359999895095825,1.7400000095367432,1.559999942779541,1.7899999618530273,2.890000104904175,2.2799999713897705,1.5700000524520874,3.7200000286102295,1.9299999475479126,2.619999885559082,1.899999976158142,2.6600000858306885,3.5399999618530273,2.0899999141693115,2.7200000286102295,2.7200000286102295,2.9700000286102295],\"yaxis\":\"y\",\"type\":\"scatter\"},{\"hovertemplate\":\"variable=Predicted RPM<br>index=%{x}<br>value=%{y}<extra></extra>\",\"legendgroup\":\"Predicted RPM\",\"line\":{\"color\":\"#EF553B\",\"dash\":\"solid\"},\"marker\":{\"symbol\":\"circle\"},\"mode\":\"lines\",\"name\":\"Predicted RPM\",\"orientation\":\"v\",\"showlegend\":true,\"x\":[0,1,2,3,4,5,6,7,8,9,10,11,12,13,14,15,16,17,18,19,20,21,22,23,24,25,26,27,28,29,30,31,32,33,34,35,36,37,38,39,40,41,42,43,44,45,46,47,48,49,50,51,52,53,54,55,56,57,58,59,60,61,62,63,64,65,66,67,68,69,70,71,72,73,74,75,76,77,78,79,80,81,82,83,84,85,86,87,88,89,90,91,92,93,94,95,96,97,98,99,100,101,102,103,104,105,106,107,108,109,110,111,112,113,114,115,116,117,118,119],\"xaxis\":\"x\",\"y\":[78.42849940299988,78.42849940299988,2.330300009250641,4.5025000166893,4.50170001745224,2.2931999933719633,3.3836000394821166,2.5122000229358674,10.518399963378906,6.908000101894141,3.935700013637543,3.567300033569336,2.330300009250641,2.6637000226974488,20.798199920654298,2.6818999814987183,2.0859999799728395,6.923200106471777,2.7414999556541444,4.478100020885467,3.166699991226196,2.0991999781131745,4.115299999713898,2.2059000122547148,3.178599989414215,4.474100019931793,6.912500099986792,2.520099995136261,2.67889995098114,20.798199920654298,4.490800020694732,2.355299994945526,4.474100019931793,2.7193999695777893,2.3580000054836274,4.491800019741058,20.798199920654298,4.490800020694732,4.490800020694732,4.681499993801117,20.798199920654298,2.2997999942302703,2.2458999872207643,2.6788999795913697,4.474100019931793,4.450400011539459,2.4757999956607817,2.2708999848365785,2.7193999695777893,4.491800019741058,2.1200999963283538,2.0944999825954436,6.229800061881543,2.702399978637695,10.370199861526489,5.438599974960089,2.5122000229358674,2.504600021839142,3.4938000321388243,40.2468995475769,2.4090000212192537,3.4938000321388243,1.6445999979972838,2.253899998664856,2.5765000200271606,38.20469959259033,2.087000023126602,11.02050000190735,1.6445999979972838,3.662100033760071,1.8386999905109405,20.798199920654298,2.628900066614151,2.4016999900341034,1.6445999979972838,2.3408999955654144,2.985600023269653,6.912500099986792,2.9302000045776366,20.798199920654298,6.912500099986792,2.098099954128265,1.6815999960899353,20.798199920654298,40.34729953765869,20.798199920654298,2.3733000028133393,6.912500099986792,2.7278000116348267,2.9302000045776366,5.6052999804914,1.7559000110626222,1.826500004529953,2.659999988079071,2.1462000036239623,2.5680000030994417,2.2982999908924104,2.4992999982833863,3.3802999591827394,2.0213000106811525,2.471799992322922,2.088699984550476,6.912500099986792,2.3657999742031097,1.7159999883174897,1.8071999895572661,2.3492000377178193,2.8309000265598296,2.2973999786376953,1.5949000334739685,3.9707000184059145,2.0852999913692476,2.6120000088214876,1.8721000027656556,2.2077000093460084,3.955600007772446,2.098099954128265,3.014600019454956,2.829100012779236,2.476099979877472],\"yaxis\":\"y\",\"type\":\"scatter\"},{\"hovertemplate\":\"variable=Miles<br>index=%{x}<br>value=%{y}<extra></extra>\",\"legendgroup\":\"Miles\",\"line\":{\"color\":\"#00cc96\",\"dash\":\"solid\"},\"marker\":{\"symbol\":\"circle\"},\"mode\":\"lines\",\"name\":\"Miles\",\"orientation\":\"v\",\"showlegend\":true,\"x\":[0,1,2,3,4,5,6,7,8,9,10,11,12,13,14,15,16,17,18,19,20,21,22,23,24,25,26,27,28,29,30,31,32,33,34,35,36,37,38,39,40,41,42,43,44,45,46,47,48,49,50,51,52,53,54,55,56,57,58,59,60,61,62,63,64,65,66,67,68,69,70,71,72,73,74,75,76,77,78,79,80,81,82,83,84,85,86,87,88,89,90,91,92,93,94,95,96,97,98,99,100,101,102,103,104,105,106,107,108,109,110,111,112,113,114,115,116,117,118,119],\"xaxis\":\"x\",\"y\":[6.0,6.0,757.0,178.0,178.0,602.0,234.0,416.0,26.0,58.0,183.0,232.0,757.0,463.0,12.0,425.0,828.0,58.0,557.0,178.0,294.0,828.0,146.0,442.0,219.0,178.0,58.0,425.0,251.0,12.0,178.0,758.0,178.0,557.0,471.0,178.0,12.0,178.0,178.0,136.0,12.0,425.0,471.0,341.0,178.0,178.0,228.0,567.0,557.0,178.0,1090.0,1090.0,60.0,341.0,27.0,78.0,416.0,989.0,319.0,23.0,249.0,319.0,1308.0,380.0,856.0,23.0,559.0,32.0,1308.0,267.0,775.0,12.0,1461.0,758.0,1308.0,425.0,429.0,58.0,323.0,12.0,58.0,861.0,888.0,12.0,23.0,12.0,249.0,58.0,547.0,323.0,78.0,965.0,773.0,425.0,832.0,556.0,801.0,425.0,195.0,859.0,321.0,1090.0,58.0,720.0,1261.0,899.0,1005.0,380.0,636.0,382.0,148.0,1090.0,988.0,949.0,902.0,134.0,861.0,552.0,552.0,976.0],\"yaxis\":\"y\",\"type\":\"scatter\"},{\"hovertemplate\":\"index=%{x}<br>Miles=%{y}<extra></extra>\",\"legendgroup\":\"\",\"line\":{\"color\":\"#636efa\",\"dash\":\"solid\"},\"marker\":{\"symbol\":\"circle\"},\"mode\":\"lines\",\"name\":\"\",\"orientation\":\"v\",\"showlegend\":false,\"x\":[0,1,2,3,4,5,6,7,8,9,10,11,12,13,14,15,16,17,18,19,20,21,22,23,24,25,26,27,28,29,30,31,32,33,34,35,36,37,38,39,40,41,42,43,44,45,46,47,48,49,50,51,52,53,54,55,56,57,58,59,60,61,62,63,64,65,66,67,68,69,70,71,72,73,74,75,76,77,78,79,80,81,82,83,84,85,86,87,88,89,90,91,92,93,94,95,96,97,98,99,100,101,102,103,104,105,106,107,108,109,110,111,112,113,114,115,116,117,118,119],\"xaxis\":\"x\",\"y\":[6,6,757,178,178,602,234,416,26,58,183,232,757,463,12,425,828,58,557,178,294,828,146,442,219,178,58,425,251,12,178,758,178,557,471,178,12,178,178,136,12,425,471,341,178,178,228,567,557,178,1090,1090,60,341,27,78,416,989,319,23,249,319,1308,380,856,23,559,32,1308,267,775,12,1461,758,1308,425,429,58,323,12,58,861,888,12,23,12,249,58,547,323,78,965,773,425,832,556,801,425,195,859,321,1090,58,720,1261,899,1005,380,636,382,148,1090,988,949,902,134,861,552,552,976],\"yaxis\":\"y\",\"type\":\"scatter\"}],                        {\"template\":{\"data\":{\"histogram2dcontour\":[{\"type\":\"histogram2dcontour\",\"colorbar\":{\"outlinewidth\":0,\"ticks\":\"\"},\"colorscale\":[[0.0,\"#0d0887\"],[0.1111111111111111,\"#46039f\"],[0.2222222222222222,\"#7201a8\"],[0.3333333333333333,\"#9c179e\"],[0.4444444444444444,\"#bd3786\"],[0.5555555555555556,\"#d8576b\"],[0.6666666666666666,\"#ed7953\"],[0.7777777777777778,\"#fb9f3a\"],[0.8888888888888888,\"#fdca26\"],[1.0,\"#f0f921\"]]}],\"choropleth\":[{\"type\":\"choropleth\",\"colorbar\":{\"outlinewidth\":0,\"ticks\":\"\"}}],\"histogram2d\":[{\"type\":\"histogram2d\",\"colorbar\":{\"outlinewidth\":0,\"ticks\":\"\"},\"colorscale\":[[0.0,\"#0d0887\"],[0.1111111111111111,\"#46039f\"],[0.2222222222222222,\"#7201a8\"],[0.3333333333333333,\"#9c179e\"],[0.4444444444444444,\"#bd3786\"],[0.5555555555555556,\"#d8576b\"],[0.6666666666666666,\"#ed7953\"],[0.7777777777777778,\"#fb9f3a\"],[0.8888888888888888,\"#fdca26\"],[1.0,\"#f0f921\"]]}],\"heatmap\":[{\"type\":\"heatmap\",\"colorbar\":{\"outlinewidth\":0,\"ticks\":\"\"},\"colorscale\":[[0.0,\"#0d0887\"],[0.1111111111111111,\"#46039f\"],[0.2222222222222222,\"#7201a8\"],[0.3333333333333333,\"#9c179e\"],[0.4444444444444444,\"#bd3786\"],[0.5555555555555556,\"#d8576b\"],[0.6666666666666666,\"#ed7953\"],[0.7777777777777778,\"#fb9f3a\"],[0.8888888888888888,\"#fdca26\"],[1.0,\"#f0f921\"]]}],\"heatmapgl\":[{\"type\":\"heatmapgl\",\"colorbar\":{\"outlinewidth\":0,\"ticks\":\"\"},\"colorscale\":[[0.0,\"#0d0887\"],[0.1111111111111111,\"#46039f\"],[0.2222222222222222,\"#7201a8\"],[0.3333333333333333,\"#9c179e\"],[0.4444444444444444,\"#bd3786\"],[0.5555555555555556,\"#d8576b\"],[0.6666666666666666,\"#ed7953\"],[0.7777777777777778,\"#fb9f3a\"],[0.8888888888888888,\"#fdca26\"],[1.0,\"#f0f921\"]]}],\"contourcarpet\":[{\"type\":\"contourcarpet\",\"colorbar\":{\"outlinewidth\":0,\"ticks\":\"\"}}],\"contour\":[{\"type\":\"contour\",\"colorbar\":{\"outlinewidth\":0,\"ticks\":\"\"},\"colorscale\":[[0.0,\"#0d0887\"],[0.1111111111111111,\"#46039f\"],[0.2222222222222222,\"#7201a8\"],[0.3333333333333333,\"#9c179e\"],[0.4444444444444444,\"#bd3786\"],[0.5555555555555556,\"#d8576b\"],[0.6666666666666666,\"#ed7953\"],[0.7777777777777778,\"#fb9f3a\"],[0.8888888888888888,\"#fdca26\"],[1.0,\"#f0f921\"]]}],\"surface\":[{\"type\":\"surface\",\"colorbar\":{\"outlinewidth\":0,\"ticks\":\"\"},\"colorscale\":[[0.0,\"#0d0887\"],[0.1111111111111111,\"#46039f\"],[0.2222222222222222,\"#7201a8\"],[0.3333333333333333,\"#9c179e\"],[0.4444444444444444,\"#bd3786\"],[0.5555555555555556,\"#d8576b\"],[0.6666666666666666,\"#ed7953\"],[0.7777777777777778,\"#fb9f3a\"],[0.8888888888888888,\"#fdca26\"],[1.0,\"#f0f921\"]]}],\"mesh3d\":[{\"type\":\"mesh3d\",\"colorbar\":{\"outlinewidth\":0,\"ticks\":\"\"}}],\"scatter\":[{\"fillpattern\":{\"fillmode\":\"overlay\",\"size\":10,\"solidity\":0.2},\"type\":\"scatter\"}],\"parcoords\":[{\"type\":\"parcoords\",\"line\":{\"colorbar\":{\"outlinewidth\":0,\"ticks\":\"\"}}}],\"scatterpolargl\":[{\"type\":\"scatterpolargl\",\"marker\":{\"colorbar\":{\"outlinewidth\":0,\"ticks\":\"\"}}}],\"bar\":[{\"error_x\":{\"color\":\"#2a3f5f\"},\"error_y\":{\"color\":\"#2a3f5f\"},\"marker\":{\"line\":{\"color\":\"#E5ECF6\",\"width\":0.5},\"pattern\":{\"fillmode\":\"overlay\",\"size\":10,\"solidity\":0.2}},\"type\":\"bar\"}],\"scattergeo\":[{\"type\":\"scattergeo\",\"marker\":{\"colorbar\":{\"outlinewidth\":0,\"ticks\":\"\"}}}],\"scatterpolar\":[{\"type\":\"scatterpolar\",\"marker\":{\"colorbar\":{\"outlinewidth\":0,\"ticks\":\"\"}}}],\"histogram\":[{\"marker\":{\"pattern\":{\"fillmode\":\"overlay\",\"size\":10,\"solidity\":0.2}},\"type\":\"histogram\"}],\"scattergl\":[{\"type\":\"scattergl\",\"marker\":{\"colorbar\":{\"outlinewidth\":0,\"ticks\":\"\"}}}],\"scatter3d\":[{\"type\":\"scatter3d\",\"line\":{\"colorbar\":{\"outlinewidth\":0,\"ticks\":\"\"}},\"marker\":{\"colorbar\":{\"outlinewidth\":0,\"ticks\":\"\"}}}],\"scattermapbox\":[{\"type\":\"scattermapbox\",\"marker\":{\"colorbar\":{\"outlinewidth\":0,\"ticks\":\"\"}}}],\"scatterternary\":[{\"type\":\"scatterternary\",\"marker\":{\"colorbar\":{\"outlinewidth\":0,\"ticks\":\"\"}}}],\"scattercarpet\":[{\"type\":\"scattercarpet\",\"marker\":{\"colorbar\":{\"outlinewidth\":0,\"ticks\":\"\"}}}],\"carpet\":[{\"aaxis\":{\"endlinecolor\":\"#2a3f5f\",\"gridcolor\":\"white\",\"linecolor\":\"white\",\"minorgridcolor\":\"white\",\"startlinecolor\":\"#2a3f5f\"},\"baxis\":{\"endlinecolor\":\"#2a3f5f\",\"gridcolor\":\"white\",\"linecolor\":\"white\",\"minorgridcolor\":\"white\",\"startlinecolor\":\"#2a3f5f\"},\"type\":\"carpet\"}],\"table\":[{\"cells\":{\"fill\":{\"color\":\"#EBF0F8\"},\"line\":{\"color\":\"white\"}},\"header\":{\"fill\":{\"color\":\"#C8D4E3\"},\"line\":{\"color\":\"white\"}},\"type\":\"table\"}],\"barpolar\":[{\"marker\":{\"line\":{\"color\":\"#E5ECF6\",\"width\":0.5},\"pattern\":{\"fillmode\":\"overlay\",\"size\":10,\"solidity\":0.2}},\"type\":\"barpolar\"}],\"pie\":[{\"automargin\":true,\"type\":\"pie\"}]},\"layout\":{\"autotypenumbers\":\"strict\",\"colorway\":[\"#636efa\",\"#EF553B\",\"#00cc96\",\"#ab63fa\",\"#FFA15A\",\"#19d3f3\",\"#FF6692\",\"#B6E880\",\"#FF97FF\",\"#FECB52\"],\"font\":{\"color\":\"#2a3f5f\"},\"hovermode\":\"closest\",\"hoverlabel\":{\"align\":\"left\"},\"paper_bgcolor\":\"white\",\"plot_bgcolor\":\"#E5ECF6\",\"polar\":{\"bgcolor\":\"#E5ECF6\",\"angularaxis\":{\"gridcolor\":\"white\",\"linecolor\":\"white\",\"ticks\":\"\"},\"radialaxis\":{\"gridcolor\":\"white\",\"linecolor\":\"white\",\"ticks\":\"\"}},\"ternary\":{\"bgcolor\":\"#E5ECF6\",\"aaxis\":{\"gridcolor\":\"white\",\"linecolor\":\"white\",\"ticks\":\"\"},\"baxis\":{\"gridcolor\":\"white\",\"linecolor\":\"white\",\"ticks\":\"\"},\"caxis\":{\"gridcolor\":\"white\",\"linecolor\":\"white\",\"ticks\":\"\"}},\"coloraxis\":{\"colorbar\":{\"outlinewidth\":0,\"ticks\":\"\"}},\"colorscale\":{\"sequential\":[[0.0,\"#0d0887\"],[0.1111111111111111,\"#46039f\"],[0.2222222222222222,\"#7201a8\"],[0.3333333333333333,\"#9c179e\"],[0.4444444444444444,\"#bd3786\"],[0.5555555555555556,\"#d8576b\"],[0.6666666666666666,\"#ed7953\"],[0.7777777777777778,\"#fb9f3a\"],[0.8888888888888888,\"#fdca26\"],[1.0,\"#f0f921\"]],\"sequentialminus\":[[0.0,\"#0d0887\"],[0.1111111111111111,\"#46039f\"],[0.2222222222222222,\"#7201a8\"],[0.3333333333333333,\"#9c179e\"],[0.4444444444444444,\"#bd3786\"],[0.5555555555555556,\"#d8576b\"],[0.6666666666666666,\"#ed7953\"],[0.7777777777777778,\"#fb9f3a\"],[0.8888888888888888,\"#fdca26\"],[1.0,\"#f0f921\"]],\"diverging\":[[0,\"#8e0152\"],[0.1,\"#c51b7d\"],[0.2,\"#de77ae\"],[0.3,\"#f1b6da\"],[0.4,\"#fde0ef\"],[0.5,\"#f7f7f7\"],[0.6,\"#e6f5d0\"],[0.7,\"#b8e186\"],[0.8,\"#7fbc41\"],[0.9,\"#4d9221\"],[1,\"#276419\"]]},\"xaxis\":{\"gridcolor\":\"white\",\"linecolor\":\"white\",\"ticks\":\"\",\"title\":{\"standoff\":15},\"zerolinecolor\":\"white\",\"automargin\":true,\"zerolinewidth\":2},\"yaxis\":{\"gridcolor\":\"white\",\"linecolor\":\"white\",\"ticks\":\"\",\"title\":{\"standoff\":15},\"zerolinecolor\":\"white\",\"automargin\":true,\"zerolinewidth\":2},\"scene\":{\"xaxis\":{\"backgroundcolor\":\"#E5ECF6\",\"gridcolor\":\"white\",\"linecolor\":\"white\",\"showbackground\":true,\"ticks\":\"\",\"zerolinecolor\":\"white\",\"gridwidth\":2},\"yaxis\":{\"backgroundcolor\":\"#E5ECF6\",\"gridcolor\":\"white\",\"linecolor\":\"white\",\"showbackground\":true,\"ticks\":\"\",\"zerolinecolor\":\"white\",\"gridwidth\":2},\"zaxis\":{\"backgroundcolor\":\"#E5ECF6\",\"gridcolor\":\"white\",\"linecolor\":\"white\",\"showbackground\":true,\"ticks\":\"\",\"zerolinecolor\":\"white\",\"gridwidth\":2}},\"shapedefaults\":{\"line\":{\"color\":\"#2a3f5f\"}},\"annotationdefaults\":{\"arrowcolor\":\"#2a3f5f\",\"arrowhead\":0,\"arrowwidth\":1},\"geo\":{\"bgcolor\":\"white\",\"landcolor\":\"#E5ECF6\",\"subunitcolor\":\"white\",\"showland\":true,\"showlakes\":true,\"lakecolor\":\"white\"},\"title\":{\"x\":0.05},\"mapbox\":{\"style\":\"light\"}}},\"xaxis\":{\"anchor\":\"y\",\"domain\":[0.0,1.0],\"title\":{\"text\":\"index\"}},\"yaxis\":{\"anchor\":\"x\",\"domain\":[0.0,1.0],\"title\":{\"text\":\"RPM and Predicted RPM\"}},\"legend\":{\"title\":{\"text\":\"variable\"},\"tracegroupgap\":0},\"title\":{\"text\":\"GR: RPM vs Predicted RPM vs Miles\"},\"font\":{\"family\":\"Arial\"}},                        {\"responsive\": true}                    ).then(function(){\n                            \nvar gd = document.getElementById('645da2ad-fbd8-48df-98dd-de242f681156');\nvar x = new MutationObserver(function (mutations, observer) {{\n        var display = window.getComputedStyle(gd).display;\n        if (!display || display === 'none') {{\n            console.log([gd, 'removed!']);\n            Plotly.purge(gd);\n            observer.disconnect();\n        }}\n}});\n\n// Listen for the removal of the full notebook cells\nvar notebookContainer = gd.closest('#notebook-container');\nif (notebookContainer) {{\n    x.observe(notebookContainer, {childList: true});\n}}\n\n// Listen for the clearing of the current output cell\nvar outputEl = gd.closest('.output');\nif (outputEl) {{\n    x.observe(outputEl, {childList: true});\n}}\n\n                        })                };                });            </script>        </div>"
          },
          "metadata": {}
        }
      ],
      "execution_count": null,
      "metadata": {
        "jupyter": {
          "source_hidden": false,
          "outputs_hidden": false
        },
        "nteract": {
          "transient": {
            "deleting": false
          }
        },
        "gather": {
          "logged": 1694468147451
        },
        "id": "LzRAAL_XWRMo",
        "outputId": "b0a9c2df-1ffe-4182-8282-2e3125fd56d0"
      }
    },
    {
      "cell_type": "code",
      "source": [],
      "outputs": [],
      "execution_count": null,
      "metadata": {
        "jupyter": {
          "source_hidden": false,
          "outputs_hidden": false
        },
        "nteract": {
          "transient": {
            "deleting": false
          }
        },
        "id": "RmlAUJHSWRMo"
      }
    }
  ],
  "metadata": {
    "kernelspec": {
      "name": "python310-sdkv2",
      "language": "python",
      "display_name": "Python 3.10 - SDK v2"
    },
    "language_info": {
      "name": "python",
      "version": "3.10.10",
      "mimetype": "text/x-python",
      "codemirror_mode": {
        "name": "ipython",
        "version": 3
      },
      "pygments_lexer": "ipython3",
      "nbconvert_exporter": "python",
      "file_extension": ".py"
    },
    "microsoft": {
      "ms_spell_check": {
        "ms_spell_check_language": "en"
      },
      "host": {
        "AzureML": {
          "notebookHasBeenCompleted": true
        }
      }
    },
    "nteract": {
      "version": "nteract-front-end@1.0.0"
    },
    "kernel_info": {
      "name": "python310-sdkv2"
    },
    "colab": {
      "provenance": []
    }
  },
  "nbformat": 4,
  "nbformat_minor": 0
}